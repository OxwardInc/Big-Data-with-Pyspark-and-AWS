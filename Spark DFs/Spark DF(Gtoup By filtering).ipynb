{
 "cells": [
  {
   "cell_type": "code",
   "execution_count": 1,
   "metadata": {},
   "outputs": [],
   "source": [
    "from pyspark.sql import SparkSession\n",
    "from pyspark.sql.functions import col, lit\n",
    "spark = SparkSession.builder.appName('DF GroupBy').getOrCreate()"
   ]
  },
  {
   "cell_type": "code",
   "execution_count": 5,
   "metadata": {},
   "outputs": [
    {
     "name": "stdout",
     "output_type": "stream",
     "text": [
      "+---+------+----------------+------+------+-----+--------------------+\n",
      "|age|gender|            name|course|  roll|marks|               email|\n",
      "+---+------+----------------+------+------+-----+--------------------+\n",
      "| 28|Female| Hubert Oliveras|    DB|  2984|   59|Annika Hoffman_Na...|\n",
      "| 29|Female|Toshiko Hillyard| Cloud| 12899|   62|Margene Moores_Ma...|\n",
      "| 28|  Male|  Celeste Lollis|    PF| 21267|   45|Jeannetta Golden_...|\n",
      "| 29|Female|    Elenore Choy|    DB| 32877|   29|Billi Clore_Mitzi...|\n",
      "| 28|  Male|  Sheryll Towler|   DSA| 41487|   41|Claude Panos_Judi...|\n",
      "| 28|  Male|  Margene Moores|   MVC| 52771|   32|Toshiko Hillyard_...|\n",
      "| 28|  Male|     Neda Briski|   OOP| 61973|   69|Alberta Freund_El...|\n",
      "| 28|Female|    Claude Panos| Cloud| 72409|   85|Sheryll Towler_Al...|\n",
      "| 28|  Male|  Celeste Lollis|   MVC| 81492|   64|Nicole Harwood_Cl...|\n",
      "| 29|  Male|  Cordie Harnois|   OOP| 92882|   51|Judie Chipps_Clem...|\n",
      "| 29|Female|       Kena Wild|   DSA|102285|   35|Dustin Feagins_Ma...|\n",
      "| 29|  Male| Ernest Rossbach|    DB|111449|   53|Maybell Duguay_Ab...|\n",
      "| 28|Female|  Latia Vanhoose|    DB|122502|   27|Latia Vanhoose_Mi...|\n",
      "| 29|Female|  Latia Vanhoose|   MVC|132110|   55|Eda Neathery_Nico...|\n",
      "| 29|  Male|     Neda Briski|    PF|141770|   42|Margene Moores_Mi...|\n",
      "| 29|Female|  Latia Vanhoose|    DB|152159|   27|Claude Panos_Sant...|\n",
      "| 29|  Male|  Loris Crossett|   MVC|161771|   36|Mitzi Seldon_Jenn...|\n",
      "| 29|  Male|  Annika Hoffman|   OOP|171660|   22|Taryn Brownlee_Mi...|\n",
      "| 29|  Male|   Santa Kerfien|    PF|182129|   56|Judie Chipps_Tary...|\n",
      "| 28|Female|Mickey Cortright|    DB|192537|   62|Ernest Rossbach_M...|\n",
      "+---+------+----------------+------+------+-----+--------------------+\n",
      "only showing top 20 rows\n",
      "\n"
     ]
    }
   ],
   "source": [
    "df = spark.read.options(header = 'True', inferSchema = 'True').csv('../data/StudentData.csv')\n",
    "df.show()"
   ]
  },
  {
   "cell_type": "code",
   "execution_count": 6,
   "metadata": {},
   "outputs": [],
   "source": [
    "from pyspark.sql.functions import sum, avg, max, min, mean, count"
   ]
  },
  {
   "cell_type": "code",
   "execution_count": 8,
   "metadata": {},
   "outputs": [
    {
     "name": "stdout",
     "output_type": "stream",
     "text": [
      "+------+--------+\n",
      "|gender|count(1)|\n",
      "+------+--------+\n",
      "|  Male|     499|\n",
      "+------+--------+\n",
      "\n"
     ]
    }
   ],
   "source": [
    "df2 = df.filter(df.gender == 'Male')\n",
    "df2.groupBy(\"gender\").agg(count('*')).show()"
   ]
  },
  {
   "cell_type": "code",
   "execution_count": 9,
   "metadata": {},
   "outputs": [
    {
     "name": "stdout",
     "output_type": "stream",
     "text": [
      "+------+--------+\n",
      "|course|count(1)|\n",
      "+------+--------+\n",
      "|    PF|      97|\n",
      "|    DB|      82|\n",
      "|   MVC|      86|\n",
      "|   DSA|      78|\n",
      "| Cloud|      86|\n",
      "|   OOP|      70|\n",
      "+------+--------+\n",
      "\n"
     ]
    }
   ],
   "source": [
    "df2 = df.filter(df.gender == 'Male')\n",
    "df2.groupBy(\"course\").agg(count('*')).show()"
   ]
  },
  {
   "cell_type": "code",
   "execution_count": 11,
   "metadata": {},
   "outputs": [
    {
     "name": "stdout",
     "output_type": "stream",
     "text": [
      "+------+------+--------+\n",
      "|course|gender|count(1)|\n",
      "+------+------+--------+\n",
      "|   OOP|  Male|      70|\n",
      "|    DB|  Male|      82|\n",
      "| Cloud|Female|     106|\n",
      "|   MVC|  Male|      86|\n",
      "|   DSA|Female|      98|\n",
      "|    PF|  Male|      97|\n",
      "|   MVC|Female|      71|\n",
      "| Cloud|  Male|      86|\n",
      "|    PF|Female|      69|\n",
      "|   DSA|  Male|      78|\n",
      "|    DB|Female|      75|\n",
      "|   OOP|Female|      82|\n",
      "+------+------+--------+\n",
      "\n"
     ]
    }
   ],
   "source": [
    "df2 = df\n",
    "df2.groupBy(\"course\", \"gender\").agg(count('*')).show()"
   ]
  },
  {
   "cell_type": "code",
   "execution_count": 10,
   "metadata": {},
   "outputs": [
    {
     "name": "stdout",
     "output_type": "stream",
     "text": [
      "+------+------+--------+\n",
      "|course|gender|count(1)|\n",
      "+------+------+--------+\n",
      "|   OOP|  Male|      70|\n",
      "|    DB|  Male|      82|\n",
      "|   MVC|  Male|      86|\n",
      "|    PF|  Male|      97|\n",
      "| Cloud|  Male|      86|\n",
      "|   DSA|  Male|      78|\n",
      "+------+------+--------+\n",
      "\n"
     ]
    }
   ],
   "source": [
    "df2 = df.filter(df.gender == 'Male')\n",
    "df3 = df2.groupBy(\"course\", \"gender\").agg(count('*'))\n",
    "df3.show()"
   ]
  },
  {
   "cell_type": "code",
   "execution_count": 12,
   "metadata": {},
   "outputs": [
    {
     "name": "stdout",
     "output_type": "stream",
     "text": [
      "+------+------+-----------------+\n",
      "|course|gender|total_enrollments|\n",
      "+------+------+-----------------+\n",
      "|   OOP|  Male|               70|\n",
      "|    DB|  Male|               82|\n",
      "|   MVC|  Male|               86|\n",
      "|    PF|  Male|               97|\n",
      "| Cloud|  Male|               86|\n",
      "|   DSA|  Male|               78|\n",
      "+------+------+-----------------+\n",
      "\n"
     ]
    }
   ],
   "source": [
    "df2 = df.filter(df.gender == 'Male')\n",
    "df3 = df2.groupBy(\"course\", \"gender\").agg(count('*').alias('total_enrollments'))\n",
    "df3.show()"
   ]
  },
  {
   "cell_type": "code",
   "execution_count": 15,
   "metadata": {},
   "outputs": [
    {
     "name": "stdout",
     "output_type": "stream",
     "text": [
      "+------+------+-----------------+\n",
      "|course|gender|total_enrollments|\n",
      "+------+------+-----------------+\n",
      "|   MVC|  Male|               86|\n",
      "|    PF|  Male|               97|\n",
      "| Cloud|  Male|               86|\n",
      "+------+------+-----------------+\n",
      "\n"
     ]
    }
   ],
   "source": [
    "df3.where(df3.total_enrollments > 85).show()"
   ]
  },
  {
   "cell_type": "code",
   "execution_count": 17,
   "metadata": {},
   "outputs": [
    {
     "name": "stdout",
     "output_type": "stream",
     "text": [
      "+------+------+-----------------+\n",
      "|course|gender|total_enrollments|\n",
      "+------+------+-----------------+\n",
      "|   OOP|  Male|               70|\n",
      "|    DB|  Male|               82|\n",
      "|   MVC|  Male|               86|\n",
      "|    PF|  Male|               97|\n",
      "| Cloud|  Male|               86|\n",
      "|   DSA|  Male|               78|\n",
      "+------+------+-----------------+\n",
      "\n"
     ]
    }
   ],
   "source": [
    "df.filter(df.gender == 'Male').groupBy(\"course\", \"gender\").agg(count('*').alias('total_enrollments')).show()"
   ]
  },
  {
   "cell_type": "code",
   "execution_count": 18,
   "metadata": {},
   "outputs": [
    {
     "ename": "AnalysisException",
     "evalue": "[MISSING_ATTRIBUTES.RESOLVED_ATTRIBUTE_APPEAR_IN_OPERATION] Resolved attribute(s) \"total_enrollments\" missing from \"course\", \"gender\", \"total_enrollments\" in operator !Filter (total_enrollments#265L > cast(85 as bigint)). Attribute(s) with the same name appear in the operation: \"total_enrollments\".\nPlease check if the right attribute(s) are used.;\n!Filter (total_enrollments#265L > cast(85 as bigint))\n+- Aggregate [course#81, gender#79], [course#81, gender#79, count(1) AS total_enrollments#386L]\n   +- Filter (gender#79 = Male)\n      +- Relation [age#78,gender#79,name#80,course#81,roll#82,marks#83,email#84] csv\n",
     "output_type": "error",
     "traceback": [
      "\u001b[1;31m---------------------------------------------------------------------------\u001b[0m",
      "\u001b[1;31mAnalysisException\u001b[0m                         Traceback (most recent call last)",
      "Cell \u001b[1;32mIn[18], line 1\u001b[0m\n\u001b[1;32m----> 1\u001b[0m \u001b[43mdf\u001b[49m\u001b[38;5;241;43m.\u001b[39;49m\u001b[43mfilter\u001b[49m\u001b[43m(\u001b[49m\u001b[43mdf\u001b[49m\u001b[38;5;241;43m.\u001b[39;49m\u001b[43mgender\u001b[49m\u001b[43m \u001b[49m\u001b[38;5;241;43m==\u001b[39;49m\u001b[43m \u001b[49m\u001b[38;5;124;43m'\u001b[39;49m\u001b[38;5;124;43mMale\u001b[39;49m\u001b[38;5;124;43m'\u001b[39;49m\u001b[43m)\u001b[49m\u001b[38;5;241;43m.\u001b[39;49m\u001b[43mgroupBy\u001b[49m\u001b[43m(\u001b[49m\u001b[38;5;124;43m\"\u001b[39;49m\u001b[38;5;124;43mcourse\u001b[39;49m\u001b[38;5;124;43m\"\u001b[39;49m\u001b[43m,\u001b[49m\u001b[43m \u001b[49m\u001b[38;5;124;43m\"\u001b[39;49m\u001b[38;5;124;43mgender\u001b[39;49m\u001b[38;5;124;43m\"\u001b[39;49m\u001b[43m)\u001b[49m\u001b[38;5;241;43m.\u001b[39;49m\u001b[43magg\u001b[49m\u001b[43m(\u001b[49m\u001b[43mcount\u001b[49m\u001b[43m(\u001b[49m\u001b[38;5;124;43m'\u001b[39;49m\u001b[38;5;124;43m*\u001b[39;49m\u001b[38;5;124;43m'\u001b[39;49m\u001b[43m)\u001b[49m\u001b[38;5;241;43m.\u001b[39;49m\u001b[43malias\u001b[49m\u001b[43m(\u001b[49m\u001b[38;5;124;43m'\u001b[39;49m\u001b[38;5;124;43mtotal_enrollments\u001b[39;49m\u001b[38;5;124;43m'\u001b[39;49m\u001b[43m)\u001b[49m\u001b[43m)\u001b[49m\u001b[38;5;241;43m.\u001b[39;49m\u001b[43mfilter\u001b[49m\u001b[43m(\u001b[49m\u001b[43mdf3\u001b[49m\u001b[38;5;241;43m.\u001b[39;49m\u001b[43mtotal_enrollments\u001b[49m\u001b[43m \u001b[49m\u001b[38;5;241;43m>\u001b[39;49m\u001b[43m \u001b[49m\u001b[38;5;241;43m85\u001b[39;49m\u001b[43m)\u001b[49m\u001b[38;5;241m.\u001b[39mshow()\n",
      "File \u001b[1;32mc:\\Personal Folder\\Compass Academy Data_Engineering\\Big Data with Pyspark and AWS\\sparkvenv\\Lib\\site-packages\\pyspark\\sql\\dataframe.py:3331\u001b[0m, in \u001b[0;36mDataFrame.filter\u001b[1;34m(self, condition)\u001b[0m\n\u001b[0;32m   3329\u001b[0m     jdf \u001b[38;5;241m=\u001b[39m \u001b[38;5;28mself\u001b[39m\u001b[38;5;241m.\u001b[39m_jdf\u001b[38;5;241m.\u001b[39mfilter(condition)\n\u001b[0;32m   3330\u001b[0m \u001b[38;5;28;01melif\u001b[39;00m \u001b[38;5;28misinstance\u001b[39m(condition, Column):\n\u001b[1;32m-> 3331\u001b[0m     jdf \u001b[38;5;241m=\u001b[39m \u001b[38;5;28;43mself\u001b[39;49m\u001b[38;5;241;43m.\u001b[39;49m\u001b[43m_jdf\u001b[49m\u001b[38;5;241;43m.\u001b[39;49m\u001b[43mfilter\u001b[49m\u001b[43m(\u001b[49m\u001b[43mcondition\u001b[49m\u001b[38;5;241;43m.\u001b[39;49m\u001b[43m_jc\u001b[49m\u001b[43m)\u001b[49m\n\u001b[0;32m   3332\u001b[0m \u001b[38;5;28;01melse\u001b[39;00m:\n\u001b[0;32m   3333\u001b[0m     \u001b[38;5;28;01mraise\u001b[39;00m PySparkTypeError(\n\u001b[0;32m   3334\u001b[0m         error_class\u001b[38;5;241m=\u001b[39m\u001b[38;5;124m\"\u001b[39m\u001b[38;5;124mNOT_COLUMN_OR_STR\u001b[39m\u001b[38;5;124m\"\u001b[39m,\n\u001b[0;32m   3335\u001b[0m         message_parameters\u001b[38;5;241m=\u001b[39m{\u001b[38;5;124m\"\u001b[39m\u001b[38;5;124marg_name\u001b[39m\u001b[38;5;124m\"\u001b[39m: \u001b[38;5;124m\"\u001b[39m\u001b[38;5;124mcondition\u001b[39m\u001b[38;5;124m\"\u001b[39m, \u001b[38;5;124m\"\u001b[39m\u001b[38;5;124marg_type\u001b[39m\u001b[38;5;124m\"\u001b[39m: \u001b[38;5;28mtype\u001b[39m(condition)\u001b[38;5;241m.\u001b[39m\u001b[38;5;18m__name__\u001b[39m},\n\u001b[0;32m   3336\u001b[0m     )\n",
      "File \u001b[1;32mc:\\Personal Folder\\Compass Academy Data_Engineering\\Big Data with Pyspark and AWS\\sparkvenv\\Lib\\site-packages\\py4j\\java_gateway.py:1322\u001b[0m, in \u001b[0;36mJavaMember.__call__\u001b[1;34m(self, *args)\u001b[0m\n\u001b[0;32m   1316\u001b[0m command \u001b[38;5;241m=\u001b[39m proto\u001b[38;5;241m.\u001b[39mCALL_COMMAND_NAME \u001b[38;5;241m+\u001b[39m\\\n\u001b[0;32m   1317\u001b[0m     \u001b[38;5;28mself\u001b[39m\u001b[38;5;241m.\u001b[39mcommand_header \u001b[38;5;241m+\u001b[39m\\\n\u001b[0;32m   1318\u001b[0m     args_command \u001b[38;5;241m+\u001b[39m\\\n\u001b[0;32m   1319\u001b[0m     proto\u001b[38;5;241m.\u001b[39mEND_COMMAND_PART\n\u001b[0;32m   1321\u001b[0m answer \u001b[38;5;241m=\u001b[39m \u001b[38;5;28mself\u001b[39m\u001b[38;5;241m.\u001b[39mgateway_client\u001b[38;5;241m.\u001b[39msend_command(command)\n\u001b[1;32m-> 1322\u001b[0m return_value \u001b[38;5;241m=\u001b[39m \u001b[43mget_return_value\u001b[49m\u001b[43m(\u001b[49m\n\u001b[0;32m   1323\u001b[0m \u001b[43m    \u001b[49m\u001b[43manswer\u001b[49m\u001b[43m,\u001b[49m\u001b[43m \u001b[49m\u001b[38;5;28;43mself\u001b[39;49m\u001b[38;5;241;43m.\u001b[39;49m\u001b[43mgateway_client\u001b[49m\u001b[43m,\u001b[49m\u001b[43m \u001b[49m\u001b[38;5;28;43mself\u001b[39;49m\u001b[38;5;241;43m.\u001b[39;49m\u001b[43mtarget_id\u001b[49m\u001b[43m,\u001b[49m\u001b[43m \u001b[49m\u001b[38;5;28;43mself\u001b[39;49m\u001b[38;5;241;43m.\u001b[39;49m\u001b[43mname\u001b[49m\u001b[43m)\u001b[49m\n\u001b[0;32m   1325\u001b[0m \u001b[38;5;28;01mfor\u001b[39;00m temp_arg \u001b[38;5;129;01min\u001b[39;00m temp_args:\n\u001b[0;32m   1326\u001b[0m     \u001b[38;5;28;01mif\u001b[39;00m \u001b[38;5;28mhasattr\u001b[39m(temp_arg, \u001b[38;5;124m\"\u001b[39m\u001b[38;5;124m_detach\u001b[39m\u001b[38;5;124m\"\u001b[39m):\n",
      "File \u001b[1;32mc:\\Personal Folder\\Compass Academy Data_Engineering\\Big Data with Pyspark and AWS\\sparkvenv\\Lib\\site-packages\\pyspark\\errors\\exceptions\\captured.py:185\u001b[0m, in \u001b[0;36mcapture_sql_exception.<locals>.deco\u001b[1;34m(*a, **kw)\u001b[0m\n\u001b[0;32m    181\u001b[0m converted \u001b[38;5;241m=\u001b[39m convert_exception(e\u001b[38;5;241m.\u001b[39mjava_exception)\n\u001b[0;32m    182\u001b[0m \u001b[38;5;28;01mif\u001b[39;00m \u001b[38;5;129;01mnot\u001b[39;00m \u001b[38;5;28misinstance\u001b[39m(converted, UnknownException):\n\u001b[0;32m    183\u001b[0m     \u001b[38;5;66;03m# Hide where the exception came from that shows a non-Pythonic\u001b[39;00m\n\u001b[0;32m    184\u001b[0m     \u001b[38;5;66;03m# JVM exception message.\u001b[39;00m\n\u001b[1;32m--> 185\u001b[0m     \u001b[38;5;28;01mraise\u001b[39;00m converted \u001b[38;5;28;01mfrom\u001b[39;00m \u001b[38;5;28;01mNone\u001b[39;00m\n\u001b[0;32m    186\u001b[0m \u001b[38;5;28;01melse\u001b[39;00m:\n\u001b[0;32m    187\u001b[0m     \u001b[38;5;28;01mraise\u001b[39;00m\n",
      "\u001b[1;31mAnalysisException\u001b[0m: [MISSING_ATTRIBUTES.RESOLVED_ATTRIBUTE_APPEAR_IN_OPERATION] Resolved attribute(s) \"total_enrollments\" missing from \"course\", \"gender\", \"total_enrollments\" in operator !Filter (total_enrollments#265L > cast(85 as bigint)). Attribute(s) with the same name appear in the operation: \"total_enrollments\".\nPlease check if the right attribute(s) are used.;\n!Filter (total_enrollments#265L > cast(85 as bigint))\n+- Aggregate [course#81, gender#79], [course#81, gender#79, count(1) AS total_enrollments#386L]\n   +- Filter (gender#79 = Male)\n      +- Relation [age#78,gender#79,name#80,course#81,roll#82,marks#83,email#84] csv\n"
     ]
    }
   ],
   "source": [
    "df.filter(df.gender == 'Male').groupBy(\"course\", \"gender\").agg(count('*').alias('total_enrollments')).filter(df3.total_enrollments > 85).show()"
   ]
  },
  {
   "cell_type": "code",
   "execution_count": 19,
   "metadata": {},
   "outputs": [
    {
     "name": "stdout",
     "output_type": "stream",
     "text": [
      "+------+------+-----------------+\n",
      "|course|gender|total_enrollments|\n",
      "+------+------+-----------------+\n",
      "|   OOP|  Male|               70|\n",
      "|    DB|  Male|               82|\n",
      "|   MVC|  Male|               86|\n",
      "|    PF|  Male|               97|\n",
      "| Cloud|  Male|               86|\n",
      "|   DSA|  Male|               78|\n",
      "+------+------+-----------------+\n",
      "\n"
     ]
    }
   ],
   "source": [
    "df.filter(df.gender == 'Male').groupBy(\"course\", \"gender\").agg(count('*').alias('total_enrollments')).show()#filter(df3.total_enrollments > 85).show()"
   ]
  },
  {
   "cell_type": "code",
   "execution_count": 20,
   "metadata": {},
   "outputs": [
    {
     "name": "stdout",
     "output_type": "stream",
     "text": [
      "+---+------+----------------+------+------+-----+--------------------+\n",
      "|age|gender|            name|course|  roll|marks|               email|\n",
      "+---+------+----------------+------+------+-----+--------------------+\n",
      "| 28|Female| Hubert Oliveras|    DB|  2984|   59|Annika Hoffman_Na...|\n",
      "| 29|Female|Toshiko Hillyard| Cloud| 12899|   62|Margene Moores_Ma...|\n",
      "| 28|  Male|  Celeste Lollis|    PF| 21267|   45|Jeannetta Golden_...|\n",
      "| 29|Female|    Elenore Choy|    DB| 32877|   29|Billi Clore_Mitzi...|\n",
      "| 28|  Male|  Sheryll Towler|   DSA| 41487|   41|Claude Panos_Judi...|\n",
      "| 28|  Male|  Margene Moores|   MVC| 52771|   32|Toshiko Hillyard_...|\n",
      "| 28|  Male|     Neda Briski|   OOP| 61973|   69|Alberta Freund_El...|\n",
      "| 28|Female|    Claude Panos| Cloud| 72409|   85|Sheryll Towler_Al...|\n",
      "| 28|  Male|  Celeste Lollis|   MVC| 81492|   64|Nicole Harwood_Cl...|\n",
      "| 29|  Male|  Cordie Harnois|   OOP| 92882|   51|Judie Chipps_Clem...|\n",
      "| 29|Female|       Kena Wild|   DSA|102285|   35|Dustin Feagins_Ma...|\n",
      "| 29|  Male| Ernest Rossbach|    DB|111449|   53|Maybell Duguay_Ab...|\n",
      "| 28|Female|  Latia Vanhoose|    DB|122502|   27|Latia Vanhoose_Mi...|\n",
      "| 29|Female|  Latia Vanhoose|   MVC|132110|   55|Eda Neathery_Nico...|\n",
      "| 29|  Male|     Neda Briski|    PF|141770|   42|Margene Moores_Mi...|\n",
      "| 29|Female|  Latia Vanhoose|    DB|152159|   27|Claude Panos_Sant...|\n",
      "| 29|  Male|  Loris Crossett|   MVC|161771|   36|Mitzi Seldon_Jenn...|\n",
      "| 29|  Male|  Annika Hoffman|   OOP|171660|   22|Taryn Brownlee_Mi...|\n",
      "| 29|  Male|   Santa Kerfien|    PF|182129|   56|Judie Chipps_Tary...|\n",
      "| 28|Female|Mickey Cortright|    DB|192537|   62|Ernest Rossbach_M...|\n",
      "+---+------+----------------+------+------+-----+--------------------+\n",
      "only showing top 20 rows\n",
      "\n"
     ]
    }
   ],
   "source": [
    "df.show()"
   ]
  },
  {
   "cell_type": "code",
   "execution_count": 21,
   "metadata": {},
   "outputs": [
    {
     "name": "stdout",
     "output_type": "stream",
     "text": [
      "+------+------+-----------------+\n",
      "|course|gender|total_enrollments|\n",
      "+------+------+-----------------+\n",
      "|   MVC|  Male|               86|\n",
      "|    PF|  Male|               97|\n",
      "| Cloud|  Male|               86|\n",
      "+------+------+-----------------+\n",
      "\n"
     ]
    }
   ],
   "source": [
    "df.filter(df.gender == 'Male').groupBy(\"course\", \"gender\").agg(count('*').alias('total_enrollments')).filter(col('total_enrollments') > 85).show()"
   ]
  },
  {
   "cell_type": "markdown",
   "metadata": {},
   "source": [
    "### Quiz"
   ]
  },
  {
   "cell_type": "code",
   "execution_count": 22,
   "metadata": {},
   "outputs": [],
   "source": [
    "from pyspark.sql import SparkSession\n",
    "from pyspark.sql.functions import col, lit\n",
    "spark = SparkSession.builder.appName('DF GroupBy').getOrCreate()"
   ]
  },
  {
   "cell_type": "code",
   "execution_count": 23,
   "metadata": {},
   "outputs": [
    {
     "name": "stdout",
     "output_type": "stream",
     "text": [
      "+---+------+----------------+------+------+-----+--------------------+\n",
      "|age|gender|            name|course|  roll|marks|               email|\n",
      "+---+------+----------------+------+------+-----+--------------------+\n",
      "| 28|Female| Hubert Oliveras|    DB|  2984|   59|Annika Hoffman_Na...|\n",
      "| 29|Female|Toshiko Hillyard| Cloud| 12899|   62|Margene Moores_Ma...|\n",
      "| 28|  Male|  Celeste Lollis|    PF| 21267|   45|Jeannetta Golden_...|\n",
      "| 29|Female|    Elenore Choy|    DB| 32877|   29|Billi Clore_Mitzi...|\n",
      "| 28|  Male|  Sheryll Towler|   DSA| 41487|   41|Claude Panos_Judi...|\n",
      "| 28|  Male|  Margene Moores|   MVC| 52771|   32|Toshiko Hillyard_...|\n",
      "| 28|  Male|     Neda Briski|   OOP| 61973|   69|Alberta Freund_El...|\n",
      "| 28|Female|    Claude Panos| Cloud| 72409|   85|Sheryll Towler_Al...|\n",
      "| 28|  Male|  Celeste Lollis|   MVC| 81492|   64|Nicole Harwood_Cl...|\n",
      "| 29|  Male|  Cordie Harnois|   OOP| 92882|   51|Judie Chipps_Clem...|\n",
      "| 29|Female|       Kena Wild|   DSA|102285|   35|Dustin Feagins_Ma...|\n",
      "| 29|  Male| Ernest Rossbach|    DB|111449|   53|Maybell Duguay_Ab...|\n",
      "| 28|Female|  Latia Vanhoose|    DB|122502|   27|Latia Vanhoose_Mi...|\n",
      "| 29|Female|  Latia Vanhoose|   MVC|132110|   55|Eda Neathery_Nico...|\n",
      "| 29|  Male|     Neda Briski|    PF|141770|   42|Margene Moores_Mi...|\n",
      "| 29|Female|  Latia Vanhoose|    DB|152159|   27|Claude Panos_Sant...|\n",
      "| 29|  Male|  Loris Crossett|   MVC|161771|   36|Mitzi Seldon_Jenn...|\n",
      "| 29|  Male|  Annika Hoffman|   OOP|171660|   22|Taryn Brownlee_Mi...|\n",
      "| 29|  Male|   Santa Kerfien|    PF|182129|   56|Judie Chipps_Tary...|\n",
      "| 28|Female|Mickey Cortright|    DB|192537|   62|Ernest Rossbach_M...|\n",
      "+---+------+----------------+------+------+-----+--------------------+\n",
      "only showing top 20 rows\n",
      "\n"
     ]
    }
   ],
   "source": [
    "df = spark.read.options(header = 'True', inferSchema = 'True').csv('../data/StudentData.csv')\n",
    "df.show()"
   ]
  },
  {
   "cell_type": "code",
   "execution_count": 28,
   "metadata": {},
   "outputs": [
    {
     "name": "stdout",
     "output_type": "stream",
     "text": [
      "+------+-----+\n",
      "|course|count|\n",
      "+------+-----+\n",
      "|    PF|  166|\n",
      "|    DB|  157|\n",
      "|   MVC|  157|\n",
      "|   DSA|  176|\n",
      "| Cloud|  192|\n",
      "|   OOP|  152|\n",
      "+------+-----+\n",
      "\n",
      "+------+----------------+\n",
      "|course|total_enrollment|\n",
      "+------+----------------+\n",
      "|    PF|             166|\n",
      "|    DB|             157|\n",
      "|   MVC|             157|\n",
      "|   DSA|             176|\n",
      "| Cloud|             192|\n",
      "|   OOP|             152|\n",
      "+------+----------------+\n",
      "\n"
     ]
    }
   ],
   "source": [
    "df.groupBy(df.course).count().show()\n",
    "df.groupby('course').agg(count('*').alias('total_enrollment')).show()"
   ]
  },
  {
   "cell_type": "code",
   "execution_count": 29,
   "metadata": {},
   "outputs": [
    {
     "name": "stdout",
     "output_type": "stream",
     "text": [
      "+------+------+----------------+\n",
      "|course|gender|total_enrollment|\n",
      "+------+------+----------------+\n",
      "|   OOP|  Male|              70|\n",
      "|    DB|  Male|              82|\n",
      "| Cloud|Female|             106|\n",
      "|   MVC|  Male|              86|\n",
      "|   DSA|Female|              98|\n",
      "|    PF|  Male|              97|\n",
      "|   MVC|Female|              71|\n",
      "| Cloud|  Male|              86|\n",
      "|    PF|Female|              69|\n",
      "|   DSA|  Male|              78|\n",
      "|    DB|Female|              75|\n",
      "|   OOP|Female|              82|\n",
      "+------+------+----------------+\n",
      "\n"
     ]
    }
   ],
   "source": [
    "df.groupby('course', 'gender').agg(count('*').alias('total_enrollment')).show()"
   ]
  },
  {
   "cell_type": "code",
   "execution_count": 31,
   "metadata": {},
   "outputs": [
    {
     "name": "stdout",
     "output_type": "stream",
     "text": [
      "+------+------+-----------+\n",
      "|course|gender|total_marks|\n",
      "+------+------+-----------+\n",
      "|   OOP|  Male|       4234|\n",
      "|    DB|  Male|       5073|\n",
      "| Cloud|Female|       6316|\n",
      "|   MVC|  Male|       5241|\n",
      "|   DSA|Female|       6124|\n",
      "|    PF|  Male|       5960|\n",
      "|   MVC|Female|       4344|\n",
      "| Cloud|  Male|       5127|\n",
      "|    PF|Female|       3973|\n",
      "|   DSA|  Male|       4826|\n",
      "|    DB|Female|       4197|\n",
      "|   OOP|Female|       4682|\n",
      "+------+------+-----------+\n",
      "\n"
     ]
    }
   ],
   "source": [
    "df.groupby('course', 'gender').agg(sum('marks').alias('total_marks')).show()"
   ]
  },
  {
   "cell_type": "code",
   "execution_count": 32,
   "metadata": {},
   "outputs": [
    {
     "name": "stdout",
     "output_type": "stream",
     "text": [
      "+------+------+-------------+-------------+------------------+\n",
      "|course|gender|minumim_marks|maximum_marks|     average_marks|\n",
      "+------+------+-------------+-------------+------------------+\n",
      "|   OOP|  Male|           20|           99| 60.48571428571429|\n",
      "|    DB|  Male|           20|           98| 61.86585365853659|\n",
      "| Cloud|Female|           20|           99| 59.58490566037736|\n",
      "|   MVC|  Male|           22|           99| 60.94186046511628|\n",
      "|   DSA|Female|           20|           99| 62.48979591836735|\n",
      "|    PF|  Male|           20|           99| 61.44329896907217|\n",
      "|   MVC|Female|           22|           99|61.183098591549296|\n",
      "| Cloud|  Male|           21|           97|59.616279069767444|\n",
      "|    PF|Female|           20|           99| 57.57971014492754|\n",
      "|   DSA|  Male|           20|           99| 61.87179487179487|\n",
      "|    DB|Female|           20|           96|             55.96|\n",
      "|   OOP|Female|           21|           99| 57.09756097560975|\n",
      "+------+------+-------------+-------------+------------------+\n",
      "\n"
     ]
    }
   ],
   "source": [
    "df.groupby('course', 'gender').agg(min('marks').alias('minumim_marks'), max('marks').alias('maximum_marks'), avg('marks').alias('average_marks')).show()"
   ]
  },
  {
   "cell_type": "code",
   "execution_count": 36,
   "metadata": {},
   "outputs": [
    {
     "name": "stdout",
     "output_type": "stream",
     "text": [
      "+------+\n",
      "| value|\n",
      "+------+\n",
      "| Apple|\n",
      "|   Mic|\n",
      "|   Mic|\n",
      "| Apple|\n",
      "|Laptop|\n",
      "| Apple|\n",
      "|   Mic|\n",
      "|   Mic|\n",
      "| Apple|\n",
      "|Laptop|\n",
      "| Chair|\n",
      "| Chair|\n",
      "| Chair|\n",
      "|   Bag|\n",
      "|Mobile|\n",
      "|  Book|\n",
      "| Chair|\n",
      "| Chair|\n",
      "| Chair|\n",
      "|   Bag|\n",
      "+------+\n",
      "only showing top 20 rows\n",
      "\n"
     ]
    }
   ],
   "source": [
    "df = spark.read.options(herader = 'False', inferSchema = 'False').text('../data/WordData.txt')\n",
    "df.show()"
   ]
  },
  {
   "cell_type": "code",
   "execution_count": 37,
   "metadata": {},
   "outputs": [
    {
     "name": "stdout",
     "output_type": "stream",
     "text": [
      "+------+-----+\n",
      "| Value|count|\n",
      "+------+-----+\n",
      "|   Mic|   10|\n",
      "| Chair|   15|\n",
      "|  Book|    5|\n",
      "|Laptop|    5|\n",
      "|   Bag|    5|\n",
      "|Mobile|    5|\n",
      "| Apple|   10|\n",
      "+------+-----+\n",
      "\n"
     ]
    }
   ],
   "source": [
    "df.groupBy('Value').count().show()"
   ]
  },
  {
   "cell_type": "code",
   "execution_count": null,
   "metadata": {},
   "outputs": [],
   "source": []
  }
 ],
 "metadata": {
  "kernelspec": {
   "display_name": "sparkvenv",
   "language": "python",
   "name": "python3"
  },
  "language_info": {
   "codemirror_mode": {
    "name": "ipython",
    "version": 3
   },
   "file_extension": ".py",
   "mimetype": "text/x-python",
   "name": "python",
   "nbconvert_exporter": "python",
   "pygments_lexer": "ipython3",
   "version": "3.12.4"
  }
 },
 "nbformat": 4,
 "nbformat_minor": 2
}
