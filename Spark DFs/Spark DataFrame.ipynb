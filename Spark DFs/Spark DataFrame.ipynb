{
 "cells": [
  {
   "cell_type": "code",
   "execution_count": 0,
   "metadata": {
    "application/vnd.databricks.v1+cell": {
     "cellMetadata": {
      "byteLimit": 2048000,
      "rowLimit": 10000
     },
     "inputWidgets": {},
     "nuid": "d1c50b22-cc55-47d7-863a-3534f0f125c9",
     "showTitle": false,
     "title": ""
    }
   },
   "outputs": [],
   "source": [
    "from pyspark.sql import SparkSession\n",
    "spark = SparkSession.builder.appName(\"Spark DataFrame\").getOrCreate()"
   ]
  },
  {
   "cell_type": "code",
   "execution_count": 0,
   "metadata": {
    "application/vnd.databricks.v1+cell": {
     "cellMetadata": {
      "byteLimit": 2048000,
      "rowLimit": 10000
     },
     "inputWidgets": {},
     "nuid": "d3b8b16b-4deb-498d-9eee-2e000eb3b084",
     "showTitle": false,
     "title": ""
    }
   },
   "outputs": [
    {
     "output_type": "stream",
     "name": "stdout",
     "output_type": "stream",
     "text": [
      "DataFrame[_c0: string, _c1: string, _c2: string, _c3: string, _c4: string, _c5: string, _c6: string]\n"
     ]
    }
   ],
   "source": [
    "df = spark.read.csv('/FileStore/tables/StudentData.csv')\n",
    "print(df)"
   ]
  },
  {
   "cell_type": "code",
   "execution_count": 0,
   "metadata": {
    "application/vnd.databricks.v1+cell": {
     "cellMetadata": {
      "byteLimit": 2048000,
      "rowLimit": 10000
     },
     "inputWidgets": {},
     "nuid": "04df23b3-0c44-4261-a86a-8eaa3aec280f",
     "showTitle": false,
     "title": ""
    }
   },
   "outputs": [
    {
     "output_type": "stream",
     "name": "stdout",
     "output_type": "stream",
     "text": [
      "+---+------+----------------+------+------+-----+--------------------+\n|_c0|   _c1|             _c2|   _c3|   _c4|  _c5|                 _c6|\n+---+------+----------------+------+------+-----+--------------------+\n|age|gender|            name|course|  roll|marks|               email|\n| 28|Female| Hubert Oliveras|    DB| 02984|   59|Annika Hoffman_Na...|\n| 29|Female|Toshiko Hillyard| Cloud| 12899|   62|Margene Moores_Ma...|\n| 28|  Male|  Celeste Lollis|    PF| 21267|   45|Jeannetta Golden_...|\n| 29|Female|    Elenore Choy|    DB| 32877|   29|Billi Clore_Mitzi...|\n| 28|  Male|  Sheryll Towler|   DSA| 41487|   41|Claude Panos_Judi...|\n| 28|  Male|  Margene Moores|   MVC| 52771|   32|Toshiko Hillyard_...|\n| 28|  Male|     Neda Briski|   OOP| 61973|   69|Alberta Freund_El...|\n| 28|Female|    Claude Panos| Cloud| 72409|   85|Sheryll Towler_Al...|\n| 28|  Male|  Celeste Lollis|   MVC| 81492|   64|Nicole Harwood_Cl...|\n| 29|  Male|  Cordie Harnois|   OOP| 92882|   51|Judie Chipps_Clem...|\n| 29|Female|       Kena Wild|   DSA|102285|   35|Dustin Feagins_Ma...|\n| 29|  Male| Ernest Rossbach|    DB|111449|   53|Maybell Duguay_Ab...|\n| 28|Female|  Latia Vanhoose|    DB|122502|   27|Latia Vanhoose_Mi...|\n| 29|Female|  Latia Vanhoose|   MVC|132110|   55|Eda Neathery_Nico...|\n| 29|  Male|     Neda Briski|    PF|141770|   42|Margene Moores_Mi...|\n| 29|Female|  Latia Vanhoose|    DB|152159|   27|Claude Panos_Sant...|\n| 29|  Male|  Loris Crossett|   MVC|161771|   36|Mitzi Seldon_Jenn...|\n| 29|  Male|  Annika Hoffman|   OOP|171660|   22|Taryn Brownlee_Mi...|\n| 29|  Male|   Santa Kerfien|    PF|182129|   56|Judie Chipps_Tary...|\n+---+------+----------------+------+------+-----+--------------------+\nonly showing top 20 rows\n\n"
     ]
    }
   ],
   "source": [
    "df = spark.read.csv('/FileStore/tables/StudentData.csv')\n",
    "df.show()"
   ]
  },
  {
   "cell_type": "code",
   "execution_count": 0,
   "metadata": {
    "application/vnd.databricks.v1+cell": {
     "cellMetadata": {
      "byteLimit": 2048000,
      "rowLimit": 10000
     },
     "inputWidgets": {},
     "nuid": "e9340c08-e7b0-41b1-81db-e9302480676f",
     "showTitle": false,
     "title": ""
    }
   },
   "outputs": [
    {
     "output_type": "stream",
     "name": "stdout",
     "output_type": "stream",
     "text": [
      "+---+------+----------------+------+------+-----+--------------------+\n|age|gender|            name|course|  roll|marks|               email|\n+---+------+----------------+------+------+-----+--------------------+\n| 28|Female| Hubert Oliveras|    DB| 02984|   59|Annika Hoffman_Na...|\n| 29|Female|Toshiko Hillyard| Cloud| 12899|   62|Margene Moores_Ma...|\n| 28|  Male|  Celeste Lollis|    PF| 21267|   45|Jeannetta Golden_...|\n| 29|Female|    Elenore Choy|    DB| 32877|   29|Billi Clore_Mitzi...|\n| 28|  Male|  Sheryll Towler|   DSA| 41487|   41|Claude Panos_Judi...|\n| 28|  Male|  Margene Moores|   MVC| 52771|   32|Toshiko Hillyard_...|\n| 28|  Male|     Neda Briski|   OOP| 61973|   69|Alberta Freund_El...|\n| 28|Female|    Claude Panos| Cloud| 72409|   85|Sheryll Towler_Al...|\n| 28|  Male|  Celeste Lollis|   MVC| 81492|   64|Nicole Harwood_Cl...|\n| 29|  Male|  Cordie Harnois|   OOP| 92882|   51|Judie Chipps_Clem...|\n| 29|Female|       Kena Wild|   DSA|102285|   35|Dustin Feagins_Ma...|\n| 29|  Male| Ernest Rossbach|    DB|111449|   53|Maybell Duguay_Ab...|\n| 28|Female|  Latia Vanhoose|    DB|122502|   27|Latia Vanhoose_Mi...|\n| 29|Female|  Latia Vanhoose|   MVC|132110|   55|Eda Neathery_Nico...|\n| 29|  Male|     Neda Briski|    PF|141770|   42|Margene Moores_Mi...|\n| 29|Female|  Latia Vanhoose|    DB|152159|   27|Claude Panos_Sant...|\n| 29|  Male|  Loris Crossett|   MVC|161771|   36|Mitzi Seldon_Jenn...|\n| 29|  Male|  Annika Hoffman|   OOP|171660|   22|Taryn Brownlee_Mi...|\n| 29|  Male|   Santa Kerfien|    PF|182129|   56|Judie Chipps_Tary...|\n| 28|Female|Mickey Cortright|    DB|192537|   62|Ernest Rossbach_M...|\n+---+------+----------------+------+------+-----+--------------------+\nonly showing top 20 rows\n\n"
     ]
    }
   ],
   "source": [
    "df = spark.read.option('header', True).csv('/FileStore/tables/StudentData.csv')\n",
    "df.show()"
   ]
  },
  {
   "cell_type": "code",
   "execution_count": 0,
   "metadata": {
    "application/vnd.databricks.v1+cell": {
     "cellMetadata": {},
     "inputWidgets": {},
     "nuid": "1ba088bd-6a8f-44f4-bf45-1dd7505f4340",
     "showTitle": false,
     "title": ""
    }
   },
   "outputs": [],
   "source": []
  }
 ],
 "metadata": {
  "application/vnd.databricks.v1+notebook": {
   "dashboards": [],
   "environmentMetadata": null,
   "language": "python",
   "notebookMetadata": {
    "pythonIndentUnit": 4
   },
   "notebookName": "Spark DataFrame",
   "widgets": {}
  }
 },
 "nbformat": 4,
 "nbformat_minor": 0
}
