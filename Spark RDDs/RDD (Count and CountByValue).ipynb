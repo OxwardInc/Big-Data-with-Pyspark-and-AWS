{
 "cells": [
  {
   "cell_type": "code",
   "execution_count": 0,
   "metadata": {
    "application/vnd.databricks.v1+cell": {
     "cellMetadata": {
      "byteLimit": 2048000,
      "rowLimit": 10000
     },
     "inputWidgets": {},
     "nuid": "27e5517d-7c8b-4ebd-82c9-2e4653154b39",
     "showTitle": false,
     "title": ""
    }
   },
   "outputs": [],
   "source": [
    "from pyspark import SparkConf, SparkContext\n",
    "conf = SparkConf().setAppName('Count')\n",
    "sc = SparkContext.getOrCreate(conf=conf)"
   ]
  },
  {
   "cell_type": "code",
   "execution_count": 0,
   "metadata": {
    "application/vnd.databricks.v1+cell": {
     "cellMetadata": {
      "byteLimit": 2048000,
      "rowLimit": 10000
     },
     "inputWidgets": {},
     "nuid": "0add284e-4046-445e-b457-8d81bb9e8b48",
     "showTitle": false,
     "title": ""
    }
   },
   "outputs": [
    {
     "output_type": "stream",
     "name": "stdout",
     "output_type": "stream",
     "text": [
      "Out[4]: ['this ango company animal',\n 'cat dog ant mic laptop',\n 'char switch mobile am charger cover',\n 'amanda any alarm ant']"
     ]
    }
   ],
   "source": [
    "rdd = sc.textFile('/FileStore/tables/quiz_filter.txt')\n",
    "rdd.collect()"
   ]
  },
  {
   "cell_type": "code",
   "execution_count": 0,
   "metadata": {
    "application/vnd.databricks.v1+cell": {
     "cellMetadata": {
      "byteLimit": 2048000,
      "rowLimit": 10000
     },
     "inputWidgets": {},
     "nuid": "55e2a9e6-96af-40ef-af9a-1cf0ce8b3cc2",
     "showTitle": false,
     "title": ""
    }
   },
   "outputs": [
    {
     "output_type": "stream",
     "name": "stdout",
     "output_type": "stream",
     "text": [
      "Out[3]: 4"
     ]
    }
   ],
   "source": [
    "rdd.count()"
   ]
  },
  {
   "cell_type": "code",
   "execution_count": 0,
   "metadata": {
    "application/vnd.databricks.v1+cell": {
     "cellMetadata": {
      "byteLimit": 2048000,
      "rowLimit": 10000
     },
     "inputWidgets": {},
     "nuid": "c4e2b93d-2162-4fa1-93eb-668f9e685991",
     "showTitle": false,
     "title": ""
    }
   },
   "outputs": [
    {
     "output_type": "stream",
     "name": "stdout",
     "output_type": "stream",
     "text": [
      "Out[5]: 19"
     ]
    }
   ],
   "source": [
    "rdd.flatMap(lambda x: x.split(' ')).count()"
   ]
  },
  {
   "cell_type": "code",
   "execution_count": 0,
   "metadata": {
    "application/vnd.databricks.v1+cell": {
     "cellMetadata": {
      "byteLimit": 2048000,
      "rowLimit": 10000
     },
     "inputWidgets": {},
     "nuid": "8ed915f4-8df4-47e8-951f-da5058a5243d",
     "showTitle": false,
     "title": ""
    }
   },
   "outputs": [
    {
     "output_type": "stream",
     "name": "stdout",
     "output_type": "stream",
     "text": [
      "Out[6]: ['this',\n 'ango',\n 'company',\n 'animal',\n 'cat',\n 'dog',\n 'ant',\n 'mic',\n 'laptop',\n 'char',\n 'switch',\n 'mobile',\n 'am',\n 'charger',\n 'cover',\n 'amanda',\n 'any',\n 'alarm',\n 'ant']"
     ]
    }
   ],
   "source": [
    "rdd.flatMap(lambda x: x.split(' ')).collect()"
   ]
  },
  {
   "cell_type": "code",
   "execution_count": 0,
   "metadata": {
    "application/vnd.databricks.v1+cell": {
     "cellMetadata": {
      "byteLimit": 2048000,
      "rowLimit": 10000
     },
     "inputWidgets": {},
     "nuid": "56ef6389-362b-4e80-85cf-817b1528e3f0",
     "showTitle": false,
     "title": ""
    }
   },
   "outputs": [],
   "source": [
    "rdd2 = rdd.flatMap(lambda x: x.split(' '))"
   ]
  },
  {
   "cell_type": "code",
   "execution_count": 0,
   "metadata": {
    "application/vnd.databricks.v1+cell": {
     "cellMetadata": {
      "byteLimit": 2048000,
      "rowLimit": 10000
     },
     "inputWidgets": {},
     "nuid": "2a292f6e-cbd5-4305-bfd6-1768014249e3",
     "showTitle": false,
     "title": ""
    }
   },
   "outputs": [
    {
     "output_type": "stream",
     "name": "stdout",
     "output_type": "stream",
     "text": [
      "Out[8]: 19"
     ]
    }
   ],
   "source": [
    "rdd2.count()"
   ]
  },
  {
   "cell_type": "markdown",
   "metadata": {
    "application/vnd.databricks.v1+cell": {
     "cellMetadata": {},
     "inputWidgets": {},
     "nuid": "927ead23-7a73-4025-b983-22b82fcaee38",
     "showTitle": false,
     "title": ""
    }
   },
   "source": [
    "### Count By Value"
   ]
  },
  {
   "cell_type": "code",
   "execution_count": 0,
   "metadata": {
    "application/vnd.databricks.v1+cell": {
     "cellMetadata": {
      "byteLimit": 2048000,
      "rowLimit": 10000
     },
     "inputWidgets": {},
     "nuid": "14d8a1d3-30bb-4431-a3a1-0aeb8b4a5d84",
     "showTitle": false,
     "title": ""
    }
   },
   "outputs": [
    {
     "output_type": "stream",
     "name": "stdout",
     "output_type": "stream",
     "text": [
      "Out[9]: ['this ango company animal',\n 'cat dog ant mic laptop',\n 'char switch mobile am charger cover',\n 'amanda any alarm ant']"
     ]
    }
   ],
   "source": [
    "rdd.collect()"
   ]
  },
  {
   "cell_type": "code",
   "execution_count": 0,
   "metadata": {
    "application/vnd.databricks.v1+cell": {
     "cellMetadata": {
      "byteLimit": 2048000,
      "rowLimit": 10000
     },
     "inputWidgets": {},
     "nuid": "76f033ed-6a6c-4931-b3eb-2cd146a05ce8",
     "showTitle": false,
     "title": ""
    }
   },
   "outputs": [
    {
     "output_type": "stream",
     "name": "stdout",
     "output_type": "stream",
     "text": [
      "Out[10]: defaultdict(int,\n            {'this ango company animal': 1,\n             'cat dog ant mic laptop': 1,\n             'char switch mobile am charger cover': 1,\n             'amanda any alarm ant': 1})"
     ]
    }
   ],
   "source": [
    "rdd.countByValue()"
   ]
  },
  {
   "cell_type": "code",
   "execution_count": 0,
   "metadata": {
    "application/vnd.databricks.v1+cell": {
     "cellMetadata": {
      "byteLimit": 2048000,
      "rowLimit": 10000
     },
     "inputWidgets": {},
     "nuid": "44d36cd0-9940-4b9d-b03f-f5d6d5f1b8e6",
     "showTitle": false,
     "title": ""
    }
   },
   "outputs": [
    {
     "output_type": "stream",
     "name": "stdout",
     "output_type": "stream",
     "text": [
      "Out[11]: ['this',\n 'ango',\n 'company',\n 'animal',\n 'cat',\n 'dog',\n 'ant',\n 'mic',\n 'laptop',\n 'char',\n 'switch',\n 'mobile',\n 'am',\n 'charger',\n 'cover',\n 'amanda',\n 'any',\n 'alarm',\n 'ant']"
     ]
    }
   ],
   "source": [
    "rdd.flatMap(lambda x: x.split(' ')).collect()"
   ]
  },
  {
   "cell_type": "code",
   "execution_count": 0,
   "metadata": {
    "application/vnd.databricks.v1+cell": {
     "cellMetadata": {
      "byteLimit": 2048000,
      "rowLimit": 10000
     },
     "inputWidgets": {},
     "nuid": "be18f7f4-2df0-4a29-9075-f6d0867632d8",
     "showTitle": false,
     "title": ""
    }
   },
   "outputs": [
    {
     "output_type": "stream",
     "name": "stdout",
     "output_type": "stream",
     "text": [
      "Out[12]: defaultdict(int,\n            {'this': 1,\n             'ango': 1,\n             'company': 1,\n             'animal': 1,\n             'cat': 1,\n             'dog': 1,\n             'ant': 2,\n             'mic': 1,\n             'laptop': 1,\n             'char': 1,\n             'switch': 1,\n             'mobile': 1,\n             'am': 1,\n             'charger': 1,\n             'cover': 1,\n             'amanda': 1,\n             'any': 1,\n             'alarm': 1})"
     ]
    }
   ],
   "source": [
    "rdd.flatMap(lambda x: x.split(' ')).countByValue()"
   ]
  },
  {
   "cell_type": "code",
   "execution_count": 0,
   "metadata": {
    "application/vnd.databricks.v1+cell": {
     "cellMetadata": {
      "byteLimit": 2048000,
      "rowLimit": 10000
     },
     "inputWidgets": {},
     "nuid": "6c646055-80b9-4199-9bcb-d4eb0f561031",
     "showTitle": false,
     "title": ""
    }
   },
   "outputs": [
    {
     "output_type": "stream",
     "name": "stdout",
     "output_type": "stream",
     "text": [
      "Out[13]: ['this',\n 'ango',\n 'company',\n 'animal',\n 'cat',\n 'dog',\n 'ant',\n 'mic',\n 'laptop',\n 'char',\n 'switch',\n 'mobile',\n 'am',\n 'charger',\n 'cover',\n 'amanda',\n 'any',\n 'alarm',\n 'ant']"
     ]
    }
   ],
   "source": [
    "rdd2 = rdd.flatMap(lambda x: x.split(' '))\n",
    "rdd2.collect()"
   ]
  },
  {
   "cell_type": "code",
   "execution_count": 0,
   "metadata": {
    "application/vnd.databricks.v1+cell": {
     "cellMetadata": {
      "byteLimit": 2048000,
      "rowLimit": 10000
     },
     "inputWidgets": {},
     "nuid": "f02c3b79-c7c4-4a5a-a16d-e49f189ce760",
     "showTitle": false,
     "title": ""
    }
   },
   "outputs": [
    {
     "output_type": "stream",
     "name": "stdout",
     "output_type": "stream",
     "text": [
      "Out[14]: defaultdict(int,\n            {'this': 1,\n             'ango': 1,\n             'company': 1,\n             'animal': 1,\n             'cat': 1,\n             'dog': 1,\n             'ant': 2,\n             'mic': 1,\n             'laptop': 1,\n             'char': 1,\n             'switch': 1,\n             'mobile': 1,\n             'am': 1,\n             'charger': 1,\n             'cover': 1,\n             'amanda': 1,\n             'any': 1,\n             'alarm': 1})"
     ]
    }
   ],
   "source": [
    "rdd2.countByValue()"
   ]
  },
  {
   "cell_type": "code",
   "execution_count": 0,
   "metadata": {
    "application/vnd.databricks.v1+cell": {
     "cellMetadata": {},
     "inputWidgets": {},
     "nuid": "4fb05337-4306-4db0-8c8e-1b2cf592c4e1",
     "showTitle": false,
     "title": ""
    }
   },
   "outputs": [],
   "source": []
  }
 ],
 "metadata": {
  "application/vnd.databricks.v1+notebook": {
   "dashboards": [],
   "environmentMetadata": null,
   "language": "python",
   "notebookMetadata": {
    "pythonIndentUnit": 4
   },
   "notebookName": "RDD (Count and CountByValue)",
   "widgets": {}
  }
 },
 "nbformat": 4,
 "nbformat_minor": 0
}
