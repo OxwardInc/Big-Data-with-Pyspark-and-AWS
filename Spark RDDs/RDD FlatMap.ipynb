{
 "cells": [
  {
   "cell_type": "code",
   "execution_count": 0,
   "metadata": {
    "application/vnd.databricks.v1+cell": {
     "cellMetadata": {
      "byteLimit": 2048000,
      "rowLimit": 10000
     },
     "inputWidgets": {},
     "nuid": "6447d4d1-87e2-4c80-a203-6eb726a0ba82",
     "showTitle": false,
     "title": ""
    }
   },
   "outputs": [],
   "source": [
    "from pyspark import SparkConf, SparkContext\n",
    "conf = SparkConf().setAppName('Flat Map')\n",
    "sc = SparkContext.getOrCreate(conf=conf)"
   ]
  },
  {
   "cell_type": "code",
   "execution_count": 0,
   "metadata": {
    "application/vnd.databricks.v1+cell": {
     "cellMetadata": {
      "byteLimit": 2048000,
      "rowLimit": 10000
     },
     "inputWidgets": {},
     "nuid": "3123f463-faad-468d-9cea-45bf9de810d7",
     "showTitle": false,
     "title": ""
    }
   },
   "outputs": [
    {
     "output_type": "stream",
     "name": "stdout",
     "output_type": "stream",
     "text": [
      "Out[2]: ['1 2 3 4 5', '3 4 5 66 77', '12 43 6 7 8', '12 12 33']"
     ]
    }
   ],
   "source": [
    "rdd = sc.textFile('FileStore/tables/Sample-1.txt')\n",
    "rdd.collect()"
   ]
  },
  {
   "cell_type": "code",
   "execution_count": 0,
   "metadata": {
    "application/vnd.databricks.v1+cell": {
     "cellMetadata": {
      "byteLimit": 2048000,
      "rowLimit": 10000
     },
     "inputWidgets": {},
     "nuid": "e12a4e7a-483e-4caf-bd4b-e624db9ba451",
     "showTitle": false,
     "title": ""
    }
   },
   "outputs": [
    {
     "output_type": "stream",
     "name": "stdout",
     "output_type": "stream",
     "text": [
      "Out[3]: [['1', '2', '3', '4', '5'],\n ['3', '4', '5', '66', '77'],\n ['12', '43', '6', '7', '8'],\n ['12', '12', '33']]"
     ]
    }
   ],
   "source": [
    "MappedRdd = rdd.map(lambda x: x.split(' '))\n",
    "MappedRdd.collect()"
   ]
  },
  {
   "cell_type": "code",
   "execution_count": 0,
   "metadata": {
    "application/vnd.databricks.v1+cell": {
     "cellMetadata": {
      "byteLimit": 2048000,
      "rowLimit": 10000
     },
     "inputWidgets": {},
     "nuid": "a073cc67-9934-41ef-b768-38e3c8508aa3",
     "showTitle": false,
     "title": ""
    }
   },
   "outputs": [
    {
     "output_type": "stream",
     "name": "stdout",
     "output_type": "stream",
     "text": [
      "Out[4]: ['1',\n '2',\n '3',\n '4',\n '5',\n '3',\n '4',\n '5',\n '66',\n '77',\n '12',\n '43',\n '6',\n '7',\n '8',\n '12',\n '12',\n '33']"
     ]
    }
   ],
   "source": [
    "FlatMapedRdd = rdd.flatMap(lambda x: x.split(' '))\n",
    "FlatMapedRdd.collect()"
   ]
  },
  {
   "cell_type": "markdown",
   "metadata": {
    "application/vnd.databricks.v1+cell": {
     "cellMetadata": {},
     "inputWidgets": {},
     "nuid": "66add597-4da7-4822-aa0b-fe5ed9546664",
     "showTitle": false,
     "title": ""
    }
   },
   "source": [
    "### RDD Filter"
   ]
  },
  {
   "cell_type": "code",
   "execution_count": 0,
   "metadata": {
    "application/vnd.databricks.v1+cell": {
     "cellMetadata": {
      "byteLimit": 2048000,
      "rowLimit": 10000
     },
     "inputWidgets": {},
     "nuid": "a9c62a51-c4b1-45be-af9e-22c71b83a7e1",
     "showTitle": false,
     "title": ""
    }
   },
   "outputs": [
    {
     "output_type": "stream",
     "name": "stdout",
     "output_type": "stream",
     "text": [
      "Out[5]: ['1 2 3 4 5', '3 4 5 66 77', '12 43 6 7 8', '12 12 33']"
     ]
    }
   ],
   "source": [
    "rdd = sc.textFile('FileStore/tables/Sample-1.txt')\n",
    "rdd.collect()"
   ]
  },
  {
   "cell_type": "code",
   "execution_count": 0,
   "metadata": {
    "application/vnd.databricks.v1+cell": {
     "cellMetadata": {
      "byteLimit": 2048000,
      "rowLimit": 10000
     },
     "inputWidgets": {},
     "nuid": "14bbbf81-a53b-4981-a708-2b71c964ebe1",
     "showTitle": false,
     "title": ""
    }
   },
   "outputs": [
    {
     "output_type": "stream",
     "name": "stdout",
     "output_type": "stream",
     "text": [
      "Out[6]: ['1 2 3 4 5', '3 4 5 66 77', '12 43 6 7 8', '12 12 33']"
     ]
    }
   ],
   "source": [
    "rdd2 = rdd.filter(lambda x: 1 == 1)\n",
    "rdd2.collect()"
   ]
  },
  {
   "cell_type": "code",
   "execution_count": 0,
   "metadata": {
    "application/vnd.databricks.v1+cell": {
     "cellMetadata": {
      "byteLimit": 2048000,
      "rowLimit": 10000
     },
     "inputWidgets": {},
     "nuid": "0b41bba6-deca-4bb3-b754-95dafdb553c6",
     "showTitle": false,
     "title": ""
    }
   },
   "outputs": [
    {
     "output_type": "stream",
     "name": "stdout",
     "output_type": "stream",
     "text": [
      "Out[7]: []"
     ]
    }
   ],
   "source": [
    "rdd2 = rdd.filter(lambda x: 1 == 2)\n",
    "rdd2.collect()"
   ]
  },
  {
   "cell_type": "code",
   "execution_count": 0,
   "metadata": {
    "application/vnd.databricks.v1+cell": {
     "cellMetadata": {
      "byteLimit": 2048000,
      "rowLimit": 10000
     },
     "inputWidgets": {},
     "nuid": "8c0ee835-b037-4ddf-84e5-070a2da81424",
     "showTitle": false,
     "title": ""
    }
   },
   "outputs": [
    {
     "output_type": "stream",
     "name": "stdout",
     "output_type": "stream",
     "text": [
      "Out[8]: ['1 2 3 4 5', '3 4 5 66 77', '12 43 6 7 8']"
     ]
    }
   ],
   "source": [
    "rdd2 = rdd.filter(lambda x: x != '12 12 33')\n",
    "rdd2.collect()"
   ]
  },
  {
   "cell_type": "code",
   "execution_count": 0,
   "metadata": {
    "application/vnd.databricks.v1+cell": {
     "cellMetadata": {
      "byteLimit": 2048000,
      "rowLimit": 10000
     },
     "inputWidgets": {},
     "nuid": "af6c0d62-1986-40dd-aef8-c23dc29ca262",
     "showTitle": false,
     "title": ""
    }
   },
   "outputs": [
    {
     "output_type": "stream",
     "name": "stdout",
     "output_type": "stream",
     "text": [
      "Out[9]: ['1 2 3 4 5', '3 4 5 66 77', '12 43 6 7 8', '12 12 33']"
     ]
    }
   ],
   "source": [
    "def foo(x):\n",
    "    return True\n",
    "rdd2 = rdd.filter(foo)\n",
    "rdd2.collect()"
   ]
  },
  {
   "cell_type": "code",
   "execution_count": 0,
   "metadata": {
    "application/vnd.databricks.v1+cell": {
     "cellMetadata": {
      "byteLimit": 2048000,
      "rowLimit": 10000
     },
     "inputWidgets": {},
     "nuid": "410a28a9-5d28-44a1-b81f-747c982ae921",
     "showTitle": false,
     "title": ""
    }
   },
   "outputs": [
    {
     "output_type": "stream",
     "name": "stdout",
     "output_type": "stream",
     "text": [
      "Out[10]: ['1 2 3 4 5', '3 4 5 66 77', '12 43 6 7 8', '12 12 33']"
     ]
    }
   ],
   "source": [
    "def foo(x):\n",
    "    return 1 == 1\n",
    "\n",
    "rdd2 = rdd.filter(foo)\n",
    "rdd2.collect()"
   ]
  },
  {
   "cell_type": "code",
   "execution_count": 0,
   "metadata": {
    "application/vnd.databricks.v1+cell": {
     "cellMetadata": {
      "byteLimit": 2048000,
      "rowLimit": 10000
     },
     "inputWidgets": {},
     "nuid": "8c746fdb-5bc3-4a2a-915d-d80124c4cdf8",
     "showTitle": false,
     "title": ""
    }
   },
   "outputs": [
    {
     "output_type": "stream",
     "name": "stdout",
     "output_type": "stream",
     "text": [
      "Out[11]: []"
     ]
    }
   ],
   "source": [
    "def foo(x):\n",
    "    return 1 == 2\n",
    "\n",
    "rdd2 = rdd.filter(foo)\n",
    "rdd2.collect()"
   ]
  },
  {
   "cell_type": "code",
   "execution_count": 0,
   "metadata": {
    "application/vnd.databricks.v1+cell": {
     "cellMetadata": {
      "byteLimit": 2048000,
      "rowLimit": 10000
     },
     "inputWidgets": {},
     "nuid": "b380f0ed-28c4-4095-8cf5-003617b0850e",
     "showTitle": false,
     "title": ""
    }
   },
   "outputs": [
    {
     "output_type": "stream",
     "name": "stdout",
     "output_type": "stream",
     "text": [
      "Out[12]: ['1 2 3 4 5', '3 4 5 66 77', '12 43 6 7 8']"
     ]
    }
   ],
   "source": [
    "def foo(x):\n",
    "    if x == '12 12 33':\n",
    "        return False\n",
    "    else:\n",
    "        return True\n",
    "\n",
    "rdd2 = rdd.filter(foo)\n",
    "rdd2.collect()"
   ]
  },
  {
   "cell_type": "markdown",
   "metadata": {
    "application/vnd.databricks.v1+cell": {
     "cellMetadata": {},
     "inputWidgets": {},
     "nuid": "35d411ef-0e01-4897-99f8-1cb0c0dd4600",
     "showTitle": false,
     "title": ""
    }
   },
   "source": [
    "### Quiz (Filter)"
   ]
  },
  {
   "cell_type": "code",
   "execution_count": 0,
   "metadata": {
    "application/vnd.databricks.v1+cell": {
     "cellMetadata": {
      "byteLimit": 2048000,
      "rowLimit": 10000
     },
     "inputWidgets": {},
     "nuid": "6279d72f-0531-40c4-b1c6-47b33ecf9597",
     "showTitle": false,
     "title": ""
    }
   },
   "outputs": [
    {
     "output_type": "stream",
     "name": "stdout",
     "output_type": "stream",
     "text": [
      "Out[29]: ['this ango company animal',\n 'cat dog ant mic laptop',\n 'char switch mobile am charger cover',\n 'amanda any alarm ant']"
     ]
    }
   ],
   "source": [
    "rdd = sc.textFile('FileStore/tables/quiz_filter.txt')\n",
    "rdd.collect()"
   ]
  },
  {
   "cell_type": "code",
   "execution_count": 0,
   "metadata": {
    "application/vnd.databricks.v1+cell": {
     "cellMetadata": {
      "byteLimit": 2048000,
      "rowLimit": 10000
     },
     "inputWidgets": {},
     "nuid": "c2a2ab22-5063-4d92-ac74-05e9aeeb8196",
     "showTitle": false,
     "title": ""
    }
   },
   "outputs": [],
   "source": [
    "FlatMappedRDD =rdd.flatMap(lambda x : x.split(' '))"
   ]
  },
  {
   "cell_type": "code",
   "execution_count": 0,
   "metadata": {
    "application/vnd.databricks.v1+cell": {
     "cellMetadata": {
      "byteLimit": 2048000,
      "rowLimit": 10000
     },
     "inputWidgets": {},
     "nuid": "67d86c48-4a45-4d48-98df-b9ef4cfb7654",
     "showTitle": false,
     "title": ""
    }
   },
   "outputs": [
    {
     "output_type": "stream",
     "name": "stdout",
     "output_type": "stream",
     "text": [
      "Out[49]: True"
     ]
    }
   ],
   "source": [
    "x = 'and'\n",
    "x.startswith('a')"
   ]
  },
  {
   "cell_type": "code",
   "execution_count": 0,
   "metadata": {
    "application/vnd.databricks.v1+cell": {
     "cellMetadata": {
      "byteLimit": 2048000,
      "rowLimit": 10000
     },
     "inputWidgets": {},
     "nuid": "b67e2fe2-129c-4188-a757-317fa6b5e93d",
     "showTitle": false,
     "title": ""
    }
   },
   "outputs": [
    {
     "output_type": "stream",
     "name": "stdout",
     "output_type": "stream",
     "text": [
      "Out[50]: ['this', 'dog', 'mic', 'laptop', 'switch', 'mobile']"
     ]
    }
   ],
   "source": [
    "def filterAandC(x):\n",
    "    if x.startswith('a') or x.startswith('c'):\n",
    "        return False\n",
    "    else:\n",
    "        return True\n",
    "\n",
    "FilteredRdd = FlatMappedRDD.filter(filterAandC)\n",
    "FilteredRdd.collect()"
   ]
  },
  {
   "cell_type": "code",
   "execution_count": 0,
   "metadata": {
    "application/vnd.databricks.v1+cell": {
     "cellMetadata": {
      "byteLimit": 2048000,
      "rowLimit": 10000
     },
     "inputWidgets": {},
     "nuid": "49c91c45-ede9-4415-a8ea-017fb1849f20",
     "showTitle": false,
     "title": ""
    }
   },
   "outputs": [
    {
     "output_type": "stream",
     "name": "stdout",
     "output_type": "stream",
     "text": [
      "Out[53]: ['this', 'dog', 'mic', 'laptop', 'switch', 'mobile']"
     ]
    }
   ],
   "source": [
    "result = FlatMappedRDD.filter(lambda x: not(x.startswith('a') or x.startswith('c')))\n",
    "result.collect()"
   ]
  },
  {
   "cell_type": "code",
   "execution_count": 0,
   "metadata": {
    "application/vnd.databricks.v1+cell": {
     "cellMetadata": {},
     "inputWidgets": {},
     "nuid": "8ad86271-ad35-4394-a3a4-86a1eb8d4468",
     "showTitle": false,
     "title": ""
    }
   },
   "outputs": [],
   "source": []
  }
 ],
 "metadata": {
  "application/vnd.databricks.v1+notebook": {
   "dashboards": [],
   "environmentMetadata": null,
   "language": "python",
   "notebookMetadata": {
    "pythonIndentUnit": 4
   },
   "notebookName": "RDD FlatMap",
   "widgets": {}
  }
 },
 "nbformat": 4,
 "nbformat_minor": 0
}
