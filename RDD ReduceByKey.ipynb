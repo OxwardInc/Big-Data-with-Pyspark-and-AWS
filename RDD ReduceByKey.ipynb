{
 "cells": [
  {
   "cell_type": "code",
   "execution_count": 0,
   "metadata": {
    "application/vnd.databricks.v1+cell": {
     "cellMetadata": {
      "byteLimit": 2048000,
      "rowLimit": 10000
     },
     "inputWidgets": {},
     "nuid": "783cdc5a-2b16-4245-be48-5e752ca67605",
     "showTitle": false,
     "title": ""
    }
   },
   "outputs": [],
   "source": [
    "from pyspark import SparkConf, SparkContext\n",
    "conf = SparkConf().setAppName('ReduceByKey')\n",
    "sc = SparkContext.getOrCreate(conf=conf)"
   ]
  },
  {
   "cell_type": "code",
   "execution_count": 0,
   "metadata": {
    "application/vnd.databricks.v1+cell": {
     "cellMetadata": {
      "byteLimit": 2048000,
      "rowLimit": 10000
     },
     "inputWidgets": {},
     "nuid": "79dbd342-080a-4a6e-88c7-54dc6278ea7e",
     "showTitle": false,
     "title": ""
    }
   },
   "outputs": [],
   "source": [
    "rdd = sc.textFile('FileStore/tables/Sample.txt')"
   ]
  },
  {
   "cell_type": "code",
   "execution_count": 0,
   "metadata": {
    "application/vnd.databricks.v1+cell": {
     "cellMetadata": {
      "byteLimit": 2048000,
      "rowLimit": 10000
     },
     "inputWidgets": {},
     "nuid": "6f3f4d82-92ce-4b0b-a686-95007f954fee",
     "showTitle": false,
     "title": ""
    }
   },
   "outputs": [
    {
     "output_type": "stream",
     "name": "stdout",
     "output_type": "stream",
     "text": [
      "Out[31]: ['1 2 3 4 5', '3 4 5 66 77', '12 43 6 7 8', '12 12 33']"
     ]
    }
   ],
   "source": [
    "rdd.collect()"
   ]
  },
  {
   "cell_type": "code",
   "execution_count": 0,
   "metadata": {
    "application/vnd.databricks.v1+cell": {
     "cellMetadata": {
      "byteLimit": 2048000,
      "rowLimit": 10000
     },
     "inputWidgets": {},
     "nuid": "39d76a96-dcee-4cee-9869-f4cebeee05b2",
     "showTitle": false,
     "title": ""
    }
   },
   "outputs": [
    {
     "output_type": "stream",
     "name": "stdout",
     "output_type": "stream",
     "text": [
      "Out[32]: ['1',\n '2',\n '3',\n '4',\n '5',\n '3',\n '4',\n '5',\n '66',\n '77',\n '12',\n '43',\n '6',\n '7',\n '8',\n '12',\n '12',\n '33']"
     ]
    }
   ],
   "source": [
    "rdd.flatMap(lambda x: x.split(' ')).collect()"
   ]
  },
  {
   "cell_type": "code",
   "execution_count": 0,
   "metadata": {
    "application/vnd.databricks.v1+cell": {
     "cellMetadata": {
      "byteLimit": 2048000,
      "rowLimit": 10000
     },
     "inputWidgets": {},
     "nuid": "fb0f2ada-b563-4c92-8dfa-84864645d1fc",
     "showTitle": false,
     "title": ""
    }
   },
   "outputs": [],
   "source": [
    "rdd2 = rdd.flatMap(lambda x: x.split(' '))"
   ]
  },
  {
   "cell_type": "code",
   "execution_count": 0,
   "metadata": {
    "application/vnd.databricks.v1+cell": {
     "cellMetadata": {
      "byteLimit": 2048000,
      "rowLimit": 10000
     },
     "inputWidgets": {},
     "nuid": "c6623a22-7c16-4f93-a202-5d0c96c695d8",
     "showTitle": false,
     "title": ""
    }
   },
   "outputs": [
    {
     "output_type": "stream",
     "name": "stdout",
     "output_type": "stream",
     "text": [
      "Out[34]: [('1', 1),\n ('2', 1),\n ('3', 1),\n ('4', 1),\n ('5', 1),\n ('3', 1),\n ('4', 1),\n ('5', 1),\n ('66', 1),\n ('77', 1),\n ('12', 1),\n ('43', 1),\n ('6', 1),\n ('7', 1),\n ('8', 1),\n ('12', 1),\n ('12', 1),\n ('33', 1)]"
     ]
    }
   ],
   "source": [
    "rdd3 = rdd2.map(lambda x: (x,1))\n",
    "rdd3.collect()"
   ]
  },
  {
   "cell_type": "code",
   "execution_count": 0,
   "metadata": {
    "application/vnd.databricks.v1+cell": {
     "cellMetadata": {
      "byteLimit": 2048000,
      "rowLimit": 10000
     },
     "inputWidgets": {},
     "nuid": "cfde861c-0e73-47f1-847a-daabd8809a96",
     "showTitle": false,
     "title": ""
    }
   },
   "outputs": [
    {
     "output_type": "stream",
     "name": "stdout",
     "output_type": "stream",
     "text": [
      "Out[35]: [('1', <pyspark.resultiterable.ResultIterable at 0x7f401d26ba30>),\n ('4', <pyspark.resultiterable.ResultIterable at 0x7f401d254ca0>),\n ('66', <pyspark.resultiterable.ResultIterable at 0x7f401d254d90>),\n ('77', <pyspark.resultiterable.ResultIterable at 0x7f401d254c10>),\n ('12', <pyspark.resultiterable.ResultIterable at 0x7f401d254d30>),\n ('8', <pyspark.resultiterable.ResultIterable at 0x7f401d254e80>),\n ('33', <pyspark.resultiterable.ResultIterable at 0x7f401d254e20>),\n ('2', <pyspark.resultiterable.ResultIterable at 0x7f401d254fd0>),\n ('3', <pyspark.resultiterable.ResultIterable at 0x7f401d254eb0>),\n ('5', <pyspark.resultiterable.ResultIterable at 0x7f401d254190>),\n ('43', <pyspark.resultiterable.ResultIterable at 0x7f401d2540d0>),\n ('6', <pyspark.resultiterable.ResultIterable at 0x7f401d2542b0>),\n ('7', <pyspark.resultiterable.ResultIterable at 0x7f401d2541f0>)]"
     ]
    }
   ],
   "source": [
    "rdd3.groupByKey().collect()"
   ]
  },
  {
   "cell_type": "code",
   "execution_count": 0,
   "metadata": {
    "application/vnd.databricks.v1+cell": {
     "cellMetadata": {
      "byteLimit": 2048000,
      "rowLimit": 10000
     },
     "inputWidgets": {},
     "nuid": "8e77e2b2-88a0-4636-a54c-181899f3c99e",
     "showTitle": false,
     "title": ""
    }
   },
   "outputs": [
    {
     "output_type": "stream",
     "name": "stdout",
     "output_type": "stream",
     "text": [
      "Out[36]: [('1', 1),\n ('4', 2),\n ('66', 1),\n ('77', 1),\n ('12', 3),\n ('8', 1),\n ('33', 1),\n ('2', 1),\n ('3', 2),\n ('5', 2),\n ('43', 1),\n ('6', 1),\n ('7', 1)]"
     ]
    }
   ],
   "source": [
    "rdd3.reduceByKey(lambda x, y: x + y).collect()"
   ]
  },
  {
   "cell_type": "markdown",
   "metadata": {
    "application/vnd.databricks.v1+cell": {
     "cellMetadata": {},
     "inputWidgets": {},
     "nuid": "68fb5823-ab06-42ca-9052-e61a5723633b",
     "showTitle": false,
     "title": ""
    }
   },
   "source": [
    "### Quiz(Word count)"
   ]
  },
  {
   "cell_type": "code",
   "execution_count": 0,
   "metadata": {
    "application/vnd.databricks.v1+cell": {
     "cellMetadata": {
      "byteLimit": 2048000,
      "rowLimit": 10000
     },
     "inputWidgets": {},
     "nuid": "60870ab1-375e-45aa-8c8e-3bbb98d1d1b1",
     "showTitle": false,
     "title": ""
    }
   },
   "outputs": [
    {
     "output_type": "stream",
     "name": "stdout",
     "output_type": "stream",
     "text": [
      "Out[37]: ['this ango company animal',\n 'cat dog ant mic laptop',\n 'char switch mobile am charger cover',\n 'amanda any alarm ant']"
     ]
    }
   ],
   "source": [
    "words = sc.textFile('FileStore/tables/quiz_filter.txt')\n",
    "words.collect()"
   ]
  },
  {
   "cell_type": "code",
   "execution_count": 0,
   "metadata": {
    "application/vnd.databricks.v1+cell": {
     "cellMetadata": {
      "byteLimit": 2048000,
      "rowLimit": 10000
     },
     "inputWidgets": {},
     "nuid": "b04aac7e-40e0-4c5c-9564-46db45ca3b80",
     "showTitle": false,
     "title": ""
    }
   },
   "outputs": [
    {
     "output_type": "stream",
     "name": "stdout",
     "output_type": "stream",
     "text": [
      "Out[39]: ['this',\n 'ango',\n 'company',\n 'animal',\n 'cat',\n 'dog',\n 'ant',\n 'mic',\n 'laptop',\n 'char',\n 'switch',\n 'mobile',\n 'am',\n 'charger',\n 'cover',\n 'amanda',\n 'any',\n 'alarm',\n 'ant']"
     ]
    }
   ],
   "source": [
    "rdd1 = words.flatMap(lambda x: x.split(' '))\n",
    "rdd1.collect()"
   ]
  },
  {
   "cell_type": "code",
   "execution_count": 0,
   "metadata": {
    "application/vnd.databricks.v1+cell": {
     "cellMetadata": {
      "byteLimit": 2048000,
      "rowLimit": 10000
     },
     "inputWidgets": {},
     "nuid": "9ab2332d-cd1c-4784-a254-c782606e0829",
     "showTitle": false,
     "title": ""
    }
   },
   "outputs": [
    {
     "output_type": "stream",
     "name": "stdout",
     "output_type": "stream",
     "text": [
      "Out[45]: ['this',\n 'ango',\n 'company',\n 'animal',\n 'cat',\n 'dog',\n 'ant',\n 'mic',\n 'laptop',\n 'char',\n 'switch',\n 'mobile',\n 'am',\n 'charger',\n 'cover',\n 'amanda',\n 'any',\n 'alarm',\n 'ant']"
     ]
    }
   ],
   "source": [
    "rdd2 = rdd1.filter(lambda x: len(x) != 0)\n",
    "rdd2.collect()"
   ]
  },
  {
   "cell_type": "code",
   "execution_count": 0,
   "metadata": {
    "application/vnd.databricks.v1+cell": {
     "cellMetadata": {
      "byteLimit": 2048000,
      "rowLimit": 10000
     },
     "inputWidgets": {},
     "nuid": "4c42f4bd-6d6f-42d0-9184-c5aef5c4a93b",
     "showTitle": false,
     "title": ""
    }
   },
   "outputs": [
    {
     "output_type": "stream",
     "name": "stdout",
     "output_type": "stream",
     "text": [
      "Out[46]: [('this', 1),\n ('ango', 1),\n ('company', 1),\n ('animal', 1),\n ('cat', 1),\n ('dog', 1),\n ('ant', 1),\n ('mic', 1),\n ('laptop', 1),\n ('char', 1),\n ('switch', 1),\n ('mobile', 1),\n ('am', 1),\n ('charger', 1),\n ('cover', 1),\n ('amanda', 1),\n ('any', 1),\n ('alarm', 1),\n ('ant', 1)]"
     ]
    }
   ],
   "source": [
    "rdd3 = rdd2.map(lambda x: (x, 1))\n",
    "rdd3.collect()"
   ]
  },
  {
   "cell_type": "code",
   "execution_count": 0,
   "metadata": {
    "application/vnd.databricks.v1+cell": {
     "cellMetadata": {
      "byteLimit": 2048000,
      "rowLimit": 10000
     },
     "inputWidgets": {},
     "nuid": "c6878847-dd6b-4d07-a035-4b272f863cbe",
     "showTitle": false,
     "title": ""
    }
   },
   "outputs": [
    {
     "output_type": "stream",
     "name": "stdout",
     "output_type": "stream",
     "text": [
      "Out[47]: [('this', <pyspark.resultiterable.ResultIterable at 0x7f401d30a580>),\n ('ango', <pyspark.resultiterable.ResultIterable at 0x7f401d71f970>),\n ('cat', <pyspark.resultiterable.ResultIterable at 0x7f401d71f9a0>),\n ('ant', <pyspark.resultiterable.ResultIterable at 0x7f401d71fc40>),\n ('laptop', <pyspark.resultiterable.ResultIterable at 0x7f401d71f550>),\n ('switch', <pyspark.resultiterable.ResultIterable at 0x7f401d71fc10>),\n ('mobile', <pyspark.resultiterable.ResultIterable at 0x7f401d71fc70>),\n ('am', <pyspark.resultiterable.ResultIterable at 0x7f401d71f2b0>),\n ('company', <pyspark.resultiterable.ResultIterable at 0x7f401d71f190>),\n ('animal', <pyspark.resultiterable.ResultIterable at 0x7f401d71fcd0>),\n ('dog', <pyspark.resultiterable.ResultIterable at 0x7f401d71f520>),\n ('mic', <pyspark.resultiterable.ResultIterable at 0x7f401d71f220>),\n ('char', <pyspark.resultiterable.ResultIterable at 0x7f401d7156a0>),\n ('charger', <pyspark.resultiterable.ResultIterable at 0x7f401d715670>),\n ('cover', <pyspark.resultiterable.ResultIterable at 0x7f401d715400>),\n ('amanda', <pyspark.resultiterable.ResultIterable at 0x7f401d02c760>),\n ('any', <pyspark.resultiterable.ResultIterable at 0x7f401dc71310>),\n ('alarm', <pyspark.resultiterable.ResultIterable at 0x7f401dc716a0>)]"
     ]
    }
   ],
   "source": [
    "rdd3.groupByKey().collect()"
   ]
  },
  {
   "cell_type": "code",
   "execution_count": 0,
   "metadata": {
    "application/vnd.databricks.v1+cell": {
     "cellMetadata": {
      "byteLimit": 2048000,
      "rowLimit": 10000
     },
     "inputWidgets": {},
     "nuid": "838721ac-1de0-4386-aa94-e0247c5a1390",
     "showTitle": false,
     "title": ""
    }
   },
   "outputs": [
    {
     "output_type": "stream",
     "name": "stdout",
     "output_type": "stream",
     "text": [
      "Out[48]: [('this', 1),\n ('ango', 1),\n ('cat', 1),\n ('ant', 2),\n ('laptop', 1),\n ('switch', 1),\n ('mobile', 1),\n ('am', 1),\n ('company', 1),\n ('animal', 1),\n ('dog', 1),\n ('mic', 1),\n ('char', 1),\n ('charger', 1),\n ('cover', 1),\n ('amanda', 1),\n ('any', 1),\n ('alarm', 1)]"
     ]
    }
   ],
   "source": [
    "rdd3.reduceByKey(lambda x, y: x + y).collect()"
   ]
  },
  {
   "cell_type": "code",
   "execution_count": 0,
   "metadata": {
    "application/vnd.databricks.v1+cell": {
     "cellMetadata": {},
     "inputWidgets": {},
     "nuid": "4dcd93d2-730a-470c-bd62-9d3e7bc53d8d",
     "showTitle": false,
     "title": ""
    }
   },
   "outputs": [],
   "source": []
  }
 ],
 "metadata": {
  "application/vnd.databricks.v1+notebook": {
   "dashboards": [],
   "environmentMetadata": null,
   "language": "python",
   "notebookMetadata": {
    "pythonIndentUnit": 4
   },
   "notebookName": "RDD ReduceByKey",
   "widgets": {}
  }
 },
 "nbformat": 4,
 "nbformat_minor": 0
}
