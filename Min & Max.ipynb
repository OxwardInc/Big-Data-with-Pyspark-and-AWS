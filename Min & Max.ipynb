{
 "cells": [
  {
   "cell_type": "code",
   "execution_count": 0,
   "metadata": {
    "application/vnd.databricks.v1+cell": {
     "cellMetadata": {
      "byteLimit": 2048000,
      "rowLimit": 10000
     },
     "inputWidgets": {},
     "nuid": "01633da3-f230-4cfb-b159-c3df68cba741",
     "showTitle": false,
     "title": ""
    }
   },
   "outputs": [],
   "source": [
    "from pyspark import SparkConf, SparkContext\n",
    "conf = SparkConf().setAppName('Min and Max')\n",
    "sc = SparkContext.getOrCreate(conf=conf)"
   ]
  },
  {
   "cell_type": "code",
   "execution_count": 0,
   "metadata": {
    "application/vnd.databricks.v1+cell": {
     "cellMetadata": {
      "byteLimit": 2048000,
      "rowLimit": 10000
     },
     "inputWidgets": {},
     "nuid": "e748661c-d5dd-4e8f-aa28-fae5f29f1416",
     "showTitle": false,
     "title": ""
    }
   },
   "outputs": [
    {
     "output_type": "stream",
     "name": "stdout",
     "output_type": "stream",
     "text": [
      "Out[4]: ['The Shawshank Redemption, 3',\n 'The Matrix, 5',\n '12 Angry Men, 3',\n '12 Angry Men, 4',\n 'The Matrix, 5',\n 'The Godfather, 5',\n 'The Shawshank Redemption, 2',\n 'Pulp Fiction, 4',\n 'The Godfather, 5',\n '12 Angry Men, 2',\n 'The Godfather, 3',\n 'Pulp Fiction, 4',\n '12 Angry Men, 1',\n 'The Shawshank Redemption, 2',\n '12 Angry Men, 1',\n 'The Shawshank Redemption, 5',\n 'Pulp Fiction, 5',\n 'Pulp Fiction, 2',\n 'The Matrix, 4']"
     ]
    }
   ],
   "source": [
    "rdd = sc.textFile('/FileStore/tables/movie_ratings.csv')\n",
    "rdd.collect()"
   ]
  },
  {
   "cell_type": "code",
   "execution_count": 0,
   "metadata": {
    "application/vnd.databricks.v1+cell": {
     "cellMetadata": {
      "byteLimit": 2048000,
      "rowLimit": 10000
     },
     "inputWidgets": {},
     "nuid": "a6f6ddc8-24e2-4e95-9244-e2a9e8a63ccd",
     "showTitle": false,
     "title": ""
    }
   },
   "outputs": [
    {
     "output_type": "stream",
     "name": "stdout",
     "output_type": "stream",
     "text": [
      "Out[6]: [('The Shawshank Redemption', 3),\n ('The Matrix', 5),\n ('12 Angry Men', 3),\n ('12 Angry Men', 4),\n ('The Matrix', 5),\n ('The Godfather', 5),\n ('The Shawshank Redemption', 2),\n ('Pulp Fiction', 4),\n ('The Godfather', 5),\n ('12 Angry Men', 2),\n ('The Godfather', 3),\n ('Pulp Fiction', 4),\n ('12 Angry Men', 1),\n ('The Shawshank Redemption', 2),\n ('12 Angry Men', 1),\n ('The Shawshank Redemption', 5),\n ('Pulp Fiction', 5),\n ('Pulp Fiction', 2),\n ('The Matrix', 4)]"
     ]
    }
   ],
   "source": [
    "rdd2 = rdd.map(lambda x: (x.split(',')[0], int(x.split(',')[1])))\n",
    "rdd2.collect()"
   ]
  },
  {
   "cell_type": "code",
   "execution_count": 0,
   "metadata": {
    "application/vnd.databricks.v1+cell": {
     "cellMetadata": {
      "byteLimit": 2048000,
      "rowLimit": 10000
     },
     "inputWidgets": {},
     "nuid": "9139c156-5bb4-481e-bf0a-ce8aa788af95",
     "showTitle": false,
     "title": ""
    }
   },
   "outputs": [
    {
     "output_type": "stream",
     "name": "stdout",
     "output_type": "stream",
     "text": [
      "Out[8]: [('The Shawshank Redemption', 2),\n ('12 Angry Men', 1),\n ('The Godfather', 3),\n ('The Matrix', 4),\n ('Pulp Fiction', 2)]"
     ]
    }
   ],
   "source": [
    "rdd2.reduceByKey(lambda x, y: x if x < y else y).collect()"
   ]
  },
  {
   "cell_type": "code",
   "execution_count": 0,
   "metadata": {
    "application/vnd.databricks.v1+cell": {
     "cellMetadata": {
      "byteLimit": 2048000,
      "rowLimit": 10000
     },
     "inputWidgets": {},
     "nuid": "047495e5-eddf-48b7-a267-4a76b9ae63dc",
     "showTitle": false,
     "title": ""
    }
   },
   "outputs": [
    {
     "output_type": "stream",
     "name": "stdout",
     "output_type": "stream",
     "text": [
      "Out[9]: [('The Shawshank Redemption', 5),\n ('12 Angry Men', 4),\n ('The Godfather', 5),\n ('The Matrix', 5),\n ('Pulp Fiction', 5)]"
     ]
    }
   ],
   "source": [
    "rdd2.reduceByKey(lambda x, y: x if x > y else y).collect()"
   ]
  },
  {
   "cell_type": "markdown",
   "metadata": {
    "application/vnd.databricks.v1+cell": {
     "cellMetadata": {},
     "inputWidgets": {},
     "nuid": "bfbf3892-c8a0-483c-8b96-db02b7d684b9",
     "showTitle": false,
     "title": ""
    }
   },
   "source": [
    "### Quiz"
   ]
  },
  {
   "cell_type": "code",
   "execution_count": 0,
   "metadata": {
    "application/vnd.databricks.v1+cell": {
     "cellMetadata": {
      "byteLimit": 2048000,
      "rowLimit": 10000
     },
     "inputWidgets": {},
     "nuid": "07da5291-e9b8-4b7c-babf-44fd73ad5ca8",
     "showTitle": false,
     "title": ""
    }
   },
   "outputs": [
    {
     "output_type": "stream",
     "name": "stdout",
     "output_type": "stream",
     "text": [
      "Out[10]: ['JAN,NY,3.0',\n 'JAN,PA,1.0',\n 'JAN,NJ,2.0',\n 'JAN,CT,4.0',\n 'FEB,PA,1.0',\n 'FEB,NJ,1.0',\n 'FEB,NY,2.0',\n 'FEB,VT,1.0',\n 'MAR,NJ,2.0',\n 'MAR,NY,1.0',\n 'MAR,VT,2.0',\n 'MAR,PA,3.0']"
     ]
    }
   ],
   "source": [
    "rdd = sc.textFile('/FileStore/tables/average_quiz_sample.csv')\n",
    "rdd.collect()"
   ]
  },
  {
   "cell_type": "code",
   "execution_count": 0,
   "metadata": {
    "application/vnd.databricks.v1+cell": {
     "cellMetadata": {
      "byteLimit": 2048000,
      "rowLimit": 10000
     },
     "inputWidgets": {},
     "nuid": "25a82e45-f468-4a8f-8320-5c1371055f91",
     "showTitle": false,
     "title": ""
    }
   },
   "outputs": [
    {
     "output_type": "stream",
     "name": "stdout",
     "output_type": "stream",
     "text": [
      "Out[12]: [('NY', 3.0),\n ('PA', 1.0),\n ('NJ', 2.0),\n ('CT', 4.0),\n ('PA', 1.0),\n ('NJ', 1.0),\n ('NY', 2.0),\n ('VT', 1.0),\n ('NJ', 2.0),\n ('NY', 1.0),\n ('VT', 2.0),\n ('PA', 3.0)]"
     ]
    }
   ],
   "source": [
    "rdd2 = rdd.map(lambda x: (x.split(',')[1], float(x.split(',')[2])))\n",
    "rdd2.collect()"
   ]
  },
  {
   "cell_type": "code",
   "execution_count": 0,
   "metadata": {
    "application/vnd.databricks.v1+cell": {
     "cellMetadata": {
      "byteLimit": 2048000,
      "rowLimit": 10000
     },
     "inputWidgets": {},
     "nuid": "5b969c83-d343-4640-acb5-e5bbfb3767ac",
     "showTitle": false,
     "title": ""
    }
   },
   "outputs": [
    {
     "output_type": "stream",
     "name": "stdout",
     "output_type": "stream",
     "text": [
      "Out[13]: [('NY', 3.0), ('CT', 4.0), ('PA', 3.0), ('NJ', 2.0), ('VT', 2.0)]"
     ]
    }
   ],
   "source": [
    "rdd2.reduceByKey(lambda x, y: x if x > y else y).collect()"
   ]
  },
  {
   "cell_type": "code",
   "execution_count": 0,
   "metadata": {
    "application/vnd.databricks.v1+cell": {
     "cellMetadata": {
      "byteLimit": 2048000,
      "rowLimit": 10000
     },
     "inputWidgets": {},
     "nuid": "21f79746-a595-4a69-81c8-91610af0bcfe",
     "showTitle": false,
     "title": ""
    }
   },
   "outputs": [
    {
     "output_type": "stream",
     "name": "stdout",
     "output_type": "stream",
     "text": [
      "Out[14]: [('NY', 1.0), ('CT', 4.0), ('PA', 1.0), ('NJ', 1.0), ('VT', 1.0)]"
     ]
    }
   ],
   "source": [
    "rdd2.reduceByKey(lambda x, y: x if x < y else y).collect()"
   ]
  },
  {
   "cell_type": "code",
   "execution_count": 0,
   "metadata": {
    "application/vnd.databricks.v1+cell": {
     "cellMetadata": {},
     "inputWidgets": {},
     "nuid": "a98c4015-ca8f-4a55-89ef-8296047908ba",
     "showTitle": false,
     "title": ""
    }
   },
   "outputs": [],
   "source": []
  }
 ],
 "metadata": {
  "application/vnd.databricks.v1+notebook": {
   "dashboards": [],
   "environmentMetadata": null,
   "language": "python",
   "notebookMetadata": {
    "pythonIndentUnit": 4
   },
   "notebookName": "Min & Max",
   "widgets": {}
  }
 },
 "nbformat": 4,
 "nbformat_minor": 0
}
