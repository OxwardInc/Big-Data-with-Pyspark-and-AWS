{
 "cells": [
  {
   "cell_type": "code",
   "execution_count": 1,
   "metadata": {},
   "outputs": [],
   "source": [
    "from pyspark.sql import SparkSession\n",
    "from pyspark.ml.recommendation import ALS\n",
    "from pyspark.ml.evaluation import RegressionEvaluator\n",
    "from pyspark.ml.tuning import ParamGridBuilder, CrossValidator\n",
    "spark = SparkSession.builder.appName('Collaborative Filtering').getOrCreate()"
   ]
  },
  {
   "cell_type": "code",
   "execution_count": 2,
   "metadata": {},
   "outputs": [
    {
     "name": "stdout",
     "output_type": "stream",
     "text": [
      "+-------+--------------------+--------------------+\n",
      "|movieId|               title|              genres|\n",
      "+-------+--------------------+--------------------+\n",
      "|      1|    Toy Story (1995)|Adventure|Animati...|\n",
      "|      2|      Jumanji (1995)|Adventure|Childre...|\n",
      "|      3|Grumpier Old Men ...|      Comedy|Romance|\n",
      "|      4|Waiting to Exhale...|Comedy|Drama|Romance|\n",
      "|      5|Father of the Bri...|              Comedy|\n",
      "|      6|         Heat (1995)|Action|Crime|Thri...|\n",
      "|      7|      Sabrina (1995)|      Comedy|Romance|\n",
      "|      8| Tom and Huck (1995)|  Adventure|Children|\n",
      "|      9| Sudden Death (1995)|              Action|\n",
      "|     10|    GoldenEye (1995)|Action|Adventure|...|\n",
      "|     11|American Presiden...|Comedy|Drama|Romance|\n",
      "|     12|Dracula: Dead and...|       Comedy|Horror|\n",
      "|     13|        Balto (1995)|Adventure|Animati...|\n",
      "|     14|        Nixon (1995)|               Drama|\n",
      "|     15|Cutthroat Island ...|Action|Adventure|...|\n",
      "|     16|       Casino (1995)|         Crime|Drama|\n",
      "|     17|Sense and Sensibi...|       Drama|Romance|\n",
      "|     18|   Four Rooms (1995)|              Comedy|\n",
      "|     19|Ace Ventura: When...|              Comedy|\n",
      "|     20|  Money Train (1995)|Action|Comedy|Cri...|\n",
      "+-------+--------------------+--------------------+\n",
      "only showing top 20 rows\n",
      "\n",
      "+------+-------+------+---------+\n",
      "|userId|movieId|rating|timestamp|\n",
      "+------+-------+------+---------+\n",
      "|     1|      1|   4.0|964982703|\n",
      "|     1|      3|   4.0|964981247|\n",
      "|     1|      6|   4.0|964982224|\n",
      "|     1|     47|   5.0|964983815|\n",
      "|     1|     50|   5.0|964982931|\n",
      "|     1|     70|   3.0|964982400|\n",
      "|     1|    101|   5.0|964980868|\n",
      "|     1|    110|   4.0|964982176|\n",
      "|     1|    151|   5.0|964984041|\n",
      "|     1|    157|   5.0|964984100|\n",
      "|     1|    163|   5.0|964983650|\n",
      "|     1|    216|   5.0|964981208|\n",
      "|     1|    223|   3.0|964980985|\n",
      "|     1|    231|   5.0|964981179|\n",
      "|     1|    235|   4.0|964980908|\n",
      "|     1|    260|   5.0|964981680|\n",
      "|     1|    296|   3.0|964982967|\n",
      "|     1|    316|   3.0|964982310|\n",
      "|     1|    333|   5.0|964981179|\n",
      "|     1|    349|   4.0|964982563|\n",
      "+------+-------+------+---------+\n",
      "only showing top 20 rows\n",
      "\n"
     ]
    }
   ],
   "source": [
    "moviesDF = spark.read.options(header = 'True', inferSchema = 'True').csv(\"../data/Collaborative Filtering/movies.csv\")\n",
    "ratingsDF = spark.read.options(header = 'True', inferSchema = 'True').csv(\"../data/Collaborative Filtering/ratings.csv\")\n",
    "\n",
    "moviesDF.show()\n",
    "ratingsDF.show()"
   ]
  },
  {
   "cell_type": "code",
   "execution_count": 3,
   "metadata": {},
   "outputs": [
    {
     "data": {
      "text/plain": [
       "DataFrame[movieId: int, title: string, genres: string]"
      ]
     },
     "metadata": {},
     "output_type": "display_data"
    }
   ],
   "source": [
    "display(moviesDF)"
   ]
  },
  {
   "cell_type": "code",
   "execution_count": 4,
   "metadata": {},
   "outputs": [
    {
     "data": {
      "text/plain": [
       "DataFrame[userId: int, movieId: int, rating: double, timestamp: int]"
      ]
     },
     "metadata": {},
     "output_type": "display_data"
    }
   ],
   "source": [
    "display(ratingsDF)"
   ]
  },
  {
   "cell_type": "code",
   "execution_count": 5,
   "metadata": {},
   "outputs": [
    {
     "name": "stdout",
     "output_type": "stream",
     "text": [
      "+-------+------+------+---------+--------------------+--------------------+\n",
      "|movieId|userId|rating|timestamp|               title|              genres|\n",
      "+-------+------+------+---------+--------------------+--------------------+\n",
      "|      1|     1|   4.0|964982703|    Toy Story (1995)|Adventure|Animati...|\n",
      "|      3|     1|   4.0|964981247|Grumpier Old Men ...|      Comedy|Romance|\n",
      "|      6|     1|   4.0|964982224|         Heat (1995)|Action|Crime|Thri...|\n",
      "|     47|     1|   5.0|964983815|Seven (a.k.a. Se7...|    Mystery|Thriller|\n",
      "|     50|     1|   5.0|964982931|Usual Suspects, T...|Crime|Mystery|Thr...|\n",
      "|     70|     1|   3.0|964982400|From Dusk Till Da...|Action|Comedy|Hor...|\n",
      "|    101|     1|   5.0|964980868|Bottle Rocket (1996)|Adventure|Comedy|...|\n",
      "|    110|     1|   4.0|964982176|   Braveheart (1995)|    Action|Drama|War|\n",
      "|    151|     1|   5.0|964984041|      Rob Roy (1995)|Action|Drama|Roma...|\n",
      "|    157|     1|   5.0|964984100|Canadian Bacon (1...|          Comedy|War|\n",
      "|    163|     1|   5.0|964983650|    Desperado (1995)|Action|Romance|We...|\n",
      "|    216|     1|   5.0|964981208|Billy Madison (1995)|              Comedy|\n",
      "|    223|     1|   3.0|964980985|       Clerks (1994)|              Comedy|\n",
      "|    231|     1|   5.0|964981179|Dumb & Dumber (Du...|    Adventure|Comedy|\n",
      "|    235|     1|   4.0|964980908|      Ed Wood (1994)|        Comedy|Drama|\n",
      "|    260|     1|   5.0|964981680|Star Wars: Episod...|Action|Adventure|...|\n",
      "|    296|     1|   3.0|964982967| Pulp Fiction (1994)|Comedy|Crime|Dram...|\n",
      "|    316|     1|   3.0|964982310|     Stargate (1994)|Action|Adventure|...|\n",
      "|    333|     1|   5.0|964981179|    Tommy Boy (1995)|              Comedy|\n",
      "|    349|     1|   4.0|964982563|Clear and Present...|Action|Crime|Dram...|\n",
      "+-------+------+------+---------+--------------------+--------------------+\n",
      "only showing top 20 rows\n",
      "\n"
     ]
    }
   ],
   "source": [
    "ratings = ratingsDF.join(moviesDF, 'movieId', 'left')\n",
    "ratings.show()"
   ]
  },
  {
   "cell_type": "code",
   "execution_count": 6,
   "metadata": {},
   "outputs": [],
   "source": [
    "(train, test) = ratings.randomSplit([0.8, 0.2])"
   ]
  },
  {
   "cell_type": "code",
   "execution_count": 7,
   "metadata": {},
   "outputs": [
    {
     "data": {
      "text/plain": [
       "100836"
      ]
     },
     "execution_count": 7,
     "metadata": {},
     "output_type": "execute_result"
    }
   ],
   "source": [
    "ratings.count()"
   ]
  },
  {
   "cell_type": "code",
   "execution_count": 8,
   "metadata": {},
   "outputs": [
    {
     "name": "stdout",
     "output_type": "stream",
     "text": [
      "80814\n",
      "+-------+------+------+----------+----------------+--------------------+\n",
      "|movieId|userId|rating| timestamp|           title|              genres|\n",
      "+-------+------+------+----------+----------------+--------------------+\n",
      "|      1|     1|   4.0| 964982703|Toy Story (1995)|Adventure|Animati...|\n",
      "|      1|     5|   4.0| 847434962|Toy Story (1995)|Adventure|Animati...|\n",
      "|      1|     7|   4.5|1106635946|Toy Story (1995)|Adventure|Animati...|\n",
      "|      1|    15|   2.5|1510577970|Toy Story (1995)|Adventure|Animati...|\n",
      "|      1|    17|   4.5|1305696483|Toy Story (1995)|Adventure|Animati...|\n",
      "|      1|    18|   3.5|1455209816|Toy Story (1995)|Adventure|Animati...|\n",
      "|      1|    19|   4.0| 965705637|Toy Story (1995)|Adventure|Animati...|\n",
      "|      1|    21|   3.5|1407618878|Toy Story (1995)|Adventure|Animati...|\n",
      "|      1|    27|   3.0| 962685262|Toy Story (1995)|Adventure|Animati...|\n",
      "|      1|    31|   5.0| 850466616|Toy Story (1995)|Adventure|Animati...|\n",
      "|      1|    32|   3.0| 856736119|Toy Story (1995)|Adventure|Animati...|\n",
      "|      1|    33|   3.0| 939647444|Toy Story (1995)|Adventure|Animati...|\n",
      "|      1|    43|   5.0| 848993983|Toy Story (1995)|Adventure|Animati...|\n",
      "|      1|    44|   3.0| 869251860|Toy Story (1995)|Adventure|Animati...|\n",
      "|      1|    45|   4.0| 951170182|Toy Story (1995)|Adventure|Animati...|\n",
      "|      1|    46|   5.0| 834787906|Toy Story (1995)|Adventure|Animati...|\n",
      "|      1|    50|   3.0|1514238116|Toy Story (1995)|Adventure|Animati...|\n",
      "|      1|    54|   3.0| 830247330|Toy Story (1995)|Adventure|Animati...|\n",
      "|      1|    57|   5.0| 965796031|Toy Story (1995)|Adventure|Animati...|\n",
      "|      1|    63|   5.0|1443199669|Toy Story (1995)|Adventure|Animati...|\n",
      "+-------+------+------+----------+----------------+--------------------+\n",
      "only showing top 20 rows\n",
      "\n"
     ]
    }
   ],
   "source": [
    "print(train.count())\n",
    "train.show()"
   ]
  },
  {
   "cell_type": "code",
   "execution_count": 9,
   "metadata": {},
   "outputs": [
    {
     "name": "stdout",
     "output_type": "stream",
     "text": [
      "20022\n",
      "+-------+------+------+----------+----------------+--------------------+\n",
      "|movieId|userId|rating| timestamp|           title|              genres|\n",
      "+-------+------+------+----------+----------------+--------------------+\n",
      "|      1|    40|   5.0| 832058959|Toy Story (1995)|Adventure|Animati...|\n",
      "|      1|    86|   4.0|1344082549|Toy Story (1995)|Adventure|Animati...|\n",
      "|      1|    90|   3.0| 856353996|Toy Story (1995)|Adventure|Animati...|\n",
      "|      1|    96|   5.0| 964772990|Toy Story (1995)|Adventure|Animati...|\n",
      "|      1|    98|   4.5|1532457849|Toy Story (1995)|Adventure|Animati...|\n",
      "|      1|   107|   4.0| 829322340|Toy Story (1995)|Adventure|Animati...|\n",
      "|      1|   121|   4.0| 847656180|Toy Story (1995)|Adventure|Animati...|\n",
      "|      1|   124|   4.0|1336584336|Toy Story (1995)|Adventure|Animati...|\n",
      "|      1|   141|   4.0|1513130643|Toy Story (1995)|Adventure|Animati...|\n",
      "|      1|   151|   5.0| 855947195|Toy Story (1995)|Adventure|Animati...|\n",
      "|      1|   161|   4.0|1176751765|Toy Story (1995)|Adventure|Animati...|\n",
      "|      1|   169|   4.5|1059427918|Toy Story (1995)|Adventure|Animati...|\n",
      "|      1|   186|   4.0|1031080831|Toy Story (1995)|Adventure|Animati...|\n",
      "|      1|   193|   2.0|1435856890|Toy Story (1995)|Adventure|Animati...|\n",
      "|      1|   219|   3.5|1194681084|Toy Story (1995)|Adventure|Animati...|\n",
      "|      1|   232|   3.5|1076955621|Toy Story (1995)|Adventure|Animati...|\n",
      "|      1|   239|   4.0|1221158265|Toy Story (1995)|Adventure|Animati...|\n",
      "|      1|   247|   5.0|1467644119|Toy Story (1995)|Adventure|Animati...|\n",
      "|      1|   252|   4.5|1498284904|Toy Story (1995)|Adventure|Animati...|\n",
      "|      1|   263|   4.0| 940384199|Toy Story (1995)|Adventure|Animati...|\n",
      "+-------+------+------+----------+----------------+--------------------+\n",
      "only showing top 20 rows\n",
      "\n"
     ]
    }
   ],
   "source": [
    "print(test.count())\n",
    "test.show()"
   ]
  },
  {
   "cell_type": "code",
   "execution_count": 10,
   "metadata": {},
   "outputs": [],
   "source": [
    "als = ALS(\n",
    "    userCol='userId',\n",
    "    itemCol='movieId',\n",
    "    ratingCol='rating',\n",
    "    nonnegative=True,\n",
    "    implicitPrefs=False,\n",
    "    coldStartStrategy='drop'\n",
    ")"
   ]
  },
  {
   "cell_type": "code",
   "execution_count": 11,
   "metadata": {},
   "outputs": [],
   "source": [
    "param_grid = ParamGridBuilder() \\\n",
    "    .addGrid(als.rank, [10, 50, 100, 150]) \\\n",
    "    .addGrid(als.regParam, [.01, .05, .1, .15]) \\\n",
    "    .build()"
   ]
  },
  {
   "cell_type": "code",
   "execution_count": 12,
   "metadata": {},
   "outputs": [],
   "source": [
    "evaluator = RegressionEvaluator(\n",
    "    metricName = \"rmse\",\n",
    "    labelCol = \"rating\",\n",
    "    predictionCol = \"prediction\"\n",
    ")"
   ]
  },
  {
   "cell_type": "code",
   "execution_count": 13,
   "metadata": {},
   "outputs": [
    {
     "data": {
      "text/plain": [
       "16"
      ]
     },
     "execution_count": 13,
     "metadata": {},
     "output_type": "execute_result"
    }
   ],
   "source": [
    "len(param_grid)"
   ]
  },
  {
   "cell_type": "code",
   "execution_count": 14,
   "metadata": {},
   "outputs": [],
   "source": [
    "cv = CrossValidator(\n",
    "    estimator = als,\n",
    "    estimatorParamMaps = param_grid,\n",
    "    evaluator = evaluator,\n",
    "    numFolds = 5\n",
    ")"
   ]
  },
  {
   "cell_type": "markdown",
   "metadata": {},
   "source": [
    "### Hands on "
   ]
  },
  {
   "cell_type": "code",
   "execution_count": 15,
   "metadata": {},
   "outputs": [],
   "source": [
    "model = cv.fit(train)\n",
    "best_model = model.bestModel\n",
    "test_predictions = best_model.transform(test)\n",
    "RMSE = evaluator.evaluate(test_predictions)\n",
    "print(RMSE)"
   ]
  },
  {
   "cell_type": "markdown",
   "metadata": {},
   "source": [
    "### Recommendations"
   ]
  },
  {
   "cell_type": "code",
   "execution_count": null,
   "metadata": {},
   "outputs": [],
   "source": [
    "print(RMSE)"
   ]
  },
  {
   "cell_type": "code",
   "execution_count": null,
   "metadata": {},
   "outputs": [],
   "source": [
    "recommendations = best_model.recommendForAllUsers(5)"
   ]
  },
  {
   "cell_type": "code",
   "execution_count": null,
   "metadata": {},
   "outputs": [],
   "source": [
    "recommendations.show()"
   ]
  },
  {
   "cell_type": "code",
   "execution_count": null,
   "metadata": {},
   "outputs": [],
   "source": [
    "df = recommendations"
   ]
  },
  {
   "cell_type": "code",
   "execution_count": null,
   "metadata": {},
   "outputs": [],
   "source": [
    "display(df)"
   ]
  },
  {
   "cell_type": "code",
   "execution_count": null,
   "metadata": {},
   "outputs": [],
   "source": [
    "df2 = df.withColumn('movieid_rating', explode('recommendations'))"
   ]
  },
  {
   "cell_type": "code",
   "execution_count": null,
   "metadata": {},
   "outputs": [],
   "source": [
    "display(df2)"
   ]
  },
  {
   "cell_type": "code",
   "execution_count": null,
   "metadata": {},
   "outputs": [],
   "source": [
    "display(df2.select(\"userId\", col(\"movieid_rating\")))"
   ]
  },
  {
   "cell_type": "code",
   "execution_count": null,
   "metadata": {},
   "outputs": [],
   "source": [
    "display(df2.select(\"userId\", col(\"movieid_rating.movieID\"), col(\"movieid_rating.rating\")))"
   ]
  },
  {
   "cell_type": "code",
   "execution_count": null,
   "metadata": {},
   "outputs": [],
   "source": []
  }
 ],
 "metadata": {
  "kernelspec": {
   "display_name": "sparkvenv",
   "language": "python",
   "name": "python3"
  },
  "language_info": {
   "codemirror_mode": {
    "name": "ipython",
    "version": 3
   },
   "file_extension": ".py",
   "mimetype": "text/x-python",
   "name": "python",
   "nbconvert_exporter": "python",
   "pygments_lexer": "ipython3",
   "version": "3.12.4"
  }
 },
 "nbformat": 4,
 "nbformat_minor": 2
}
