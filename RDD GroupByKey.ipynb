{
 "cells": [
  {
   "cell_type": "code",
   "execution_count": 0,
   "metadata": {
    "application/vnd.databricks.v1+cell": {
     "cellMetadata": {
      "byteLimit": 2048000,
      "rowLimit": 10000
     },
     "inputWidgets": {},
     "nuid": "29350f23-c201-44be-894d-28aefa5f771c",
     "showTitle": false,
     "title": ""
    }
   },
   "outputs": [],
   "source": [
    "from pyspark import SparkConf, SparkContext\n",
    "conf = SparkConf().setAppName('GroupByKey')\n",
    "sc = SparkContext.getOrCreate(conf=conf)"
   ]
  },
  {
   "cell_type": "code",
   "execution_count": 0,
   "metadata": {
    "application/vnd.databricks.v1+cell": {
     "cellMetadata": {
      "byteLimit": 2048000,
      "rowLimit": 10000
     },
     "inputWidgets": {},
     "nuid": "f6cd91ef-1208-4776-a3f9-15ad2c25fc4a",
     "showTitle": false,
     "title": ""
    }
   },
   "outputs": [
    {
     "output_type": "stream",
     "name": "stdout",
     "output_type": "stream",
     "text": [
      "Out[2]: ['this ango company animal',\n 'cat dog ant mic laptop',\n 'char switch mobile am charger cover',\n 'amanda any alarm ant']"
     ]
    }
   ],
   "source": [
    "rdd = sc.textFile('/FileStore/tables/quiz_filter.txt')\n",
    "rdd.collect()"
   ]
  },
  {
   "cell_type": "code",
   "execution_count": 0,
   "metadata": {
    "application/vnd.databricks.v1+cell": {
     "cellMetadata": {
      "byteLimit": 2048000,
      "rowLimit": 10000
     },
     "inputWidgets": {},
     "nuid": "b6fd0a8f-b1d5-4f30-9135-ab54686d45b6",
     "showTitle": false,
     "title": ""
    }
   },
   "outputs": [
    {
     "output_type": "stream",
     "name": "stdout",
     "output_type": "stream",
     "text": [
      "Out[3]: ['this ango company animal',\n 'cat dog ant mic laptop',\n 'char switch mobile am charger cover',\n 'amanda any alarm ant']"
     ]
    }
   ],
   "source": [
    "rdd.map(lambda x: x).collect()"
   ]
  },
  {
   "cell_type": "code",
   "execution_count": 0,
   "metadata": {
    "application/vnd.databricks.v1+cell": {
     "cellMetadata": {
      "byteLimit": 2048000,
      "rowLimit": 10000
     },
     "inputWidgets": {},
     "nuid": "a58d644a-aa17-4f7f-9e91-1784fc1b2a25",
     "showTitle": false,
     "title": ""
    }
   },
   "outputs": [
    {
     "output_type": "stream",
     "name": "stdout",
     "output_type": "stream",
     "text": [
      "Out[4]: [('this ango company animal', 1),\n ('cat dog ant mic laptop', 1),\n ('char switch mobile am charger cover', 1),\n ('amanda any alarm ant', 1)]"
     ]
    }
   ],
   "source": [
    "rdd.map(lambda x: (x, 1)).collect()"
   ]
  },
  {
   "cell_type": "code",
   "execution_count": 0,
   "metadata": {
    "application/vnd.databricks.v1+cell": {
     "cellMetadata": {
      "byteLimit": 2048000,
      "rowLimit": 10000
     },
     "inputWidgets": {},
     "nuid": "55b2c4c7-b4c5-45a9-8749-7fb20a29fed1",
     "showTitle": false,
     "title": ""
    }
   },
   "outputs": [
    {
     "output_type": "stream",
     "name": "stdout",
     "output_type": "stream",
     "text": [
      "Out[5]: [('this ango company animal', 4),\n ('cat dog ant mic laptop', 5),\n ('char switch mobile am charger cover', 6),\n ('amanda any alarm ant', 4)]"
     ]
    }
   ],
   "source": [
    "rdd.map(lambda x: (x, len(x.split(' ')))).collect()"
   ]
  },
  {
   "cell_type": "code",
   "execution_count": 0,
   "metadata": {
    "application/vnd.databricks.v1+cell": {
     "cellMetadata": {
      "byteLimit": 2048000,
      "rowLimit": 10000
     },
     "inputWidgets": {},
     "nuid": "8901b8cd-4464-46c8-9490-dad1d42380dd",
     "showTitle": false,
     "title": ""
    }
   },
   "outputs": [
    {
     "output_type": "stream",
     "name": "stdout",
     "output_type": "stream",
     "text": [
      "Out[6]: ['this',\n 'ango',\n 'company',\n 'animal',\n 'cat',\n 'dog',\n 'ant',\n 'mic',\n 'laptop',\n 'char',\n 'switch',\n 'mobile',\n 'am',\n 'charger',\n 'cover',\n 'amanda',\n 'any',\n 'alarm',\n 'ant']"
     ]
    }
   ],
   "source": [
    "rdd.flatMap(lambda x: x.split(' ')).collect()"
   ]
  },
  {
   "cell_type": "code",
   "execution_count": 0,
   "metadata": {
    "application/vnd.databricks.v1+cell": {
     "cellMetadata": {
      "byteLimit": 2048000,
      "rowLimit": 10000
     },
     "inputWidgets": {},
     "nuid": "0077bd8b-c6bb-4401-b3a6-0678f86a144d",
     "showTitle": false,
     "title": ""
    }
   },
   "outputs": [
    {
     "output_type": "stream",
     "name": "stdout",
     "output_type": "stream",
     "text": [
      "Out[7]: ['this',\n 'ango',\n 'company',\n 'animal',\n 'cat',\n 'dog',\n 'ant',\n 'mic',\n 'laptop',\n 'char',\n 'switch',\n 'mobile',\n 'am',\n 'charger',\n 'cover',\n 'amanda',\n 'any',\n 'alarm',\n 'ant']"
     ]
    }
   ],
   "source": [
    "rdd2 = rdd.flatMap(lambda x: x.split(' '))\n",
    "rdd2.collect()"
   ]
  },
  {
   "cell_type": "code",
   "execution_count": 0,
   "metadata": {
    "application/vnd.databricks.v1+cell": {
     "cellMetadata": {
      "byteLimit": 2048000,
      "rowLimit": 10000
     },
     "inputWidgets": {},
     "nuid": "130d48ed-f716-4be1-99c8-c54a5c253fc4",
     "showTitle": false,
     "title": ""
    }
   },
   "outputs": [
    {
     "output_type": "stream",
     "name": "stdout",
     "output_type": "stream",
     "text": [
      "Out[8]: [('this', 1),\n ('ango', 1),\n ('company', 1),\n ('animal', 1),\n ('cat', 1),\n ('dog', 1),\n ('ant', 1),\n ('mic', 1),\n ('laptop', 1),\n ('char', 1),\n ('switch', 1),\n ('mobile', 1),\n ('am', 1),\n ('charger', 1),\n ('cover', 1),\n ('amanda', 1),\n ('any', 1),\n ('alarm', 1),\n ('ant', 1)]"
     ]
    }
   ],
   "source": [
    "rdd2.map(lambda x: (x, 1)).collect()"
   ]
  },
  {
   "cell_type": "code",
   "execution_count": 0,
   "metadata": {
    "application/vnd.databricks.v1+cell": {
     "cellMetadata": {
      "byteLimit": 2048000,
      "rowLimit": 10000
     },
     "inputWidgets": {},
     "nuid": "af6eb4c8-3787-4b9d-9276-c1872b8d6cbd",
     "showTitle": false,
     "title": ""
    }
   },
   "outputs": [
    {
     "output_type": "stream",
     "name": "stdout",
     "output_type": "stream",
     "text": [
      "Out[9]: [('this', 4),\n ('ango', 4),\n ('company', 7),\n ('animal', 6),\n ('cat', 3),\n ('dog', 3),\n ('ant', 3),\n ('mic', 3),\n ('laptop', 6),\n ('char', 4),\n ('switch', 6),\n ('mobile', 6),\n ('am', 2),\n ('charger', 7),\n ('cover', 5),\n ('amanda', 6),\n ('any', 3),\n ('alarm', 5),\n ('ant', 3)]"
     ]
    }
   ],
   "source": [
    "rdd2.map(lambda x: (x, len(x))).collect()"
   ]
  },
  {
   "cell_type": "code",
   "execution_count": 0,
   "metadata": {
    "application/vnd.databricks.v1+cell": {
     "cellMetadata": {
      "byteLimit": 2048000,
      "rowLimit": 10000
     },
     "inputWidgets": {},
     "nuid": "3daef8dd-be5f-40df-ad1e-ef9218232a86",
     "showTitle": false,
     "title": ""
    }
   },
   "outputs": [],
   "source": [
    "rd3 = rdd2.map(lambda x: (x, len(x)))"
   ]
  },
  {
   "cell_type": "code",
   "execution_count": 0,
   "metadata": {
    "application/vnd.databricks.v1+cell": {
     "cellMetadata": {
      "byteLimit": 2048000,
      "rowLimit": 10000
     },
     "inputWidgets": {},
     "nuid": "6b21eadd-ac3e-4beb-90cf-dfdfa8abec92",
     "showTitle": false,
     "title": ""
    }
   },
   "outputs": [
    {
     "output_type": "stream",
     "name": "stdout",
     "output_type": "stream",
     "text": [
      "Out[11]: [('this', 4),\n ('ango', 4),\n ('company', 7),\n ('animal', 6),\n ('cat', 3),\n ('dog', 3),\n ('ant', 3),\n ('mic', 3),\n ('laptop', 6),\n ('char', 4),\n ('switch', 6),\n ('mobile', 6),\n ('am', 2),\n ('charger', 7),\n ('cover', 5),\n ('amanda', 6),\n ('any', 3),\n ('alarm', 5),\n ('ant', 3)]"
     ]
    }
   ],
   "source": [
    "rd3.collect()"
   ]
  },
  {
   "cell_type": "code",
   "execution_count": 0,
   "metadata": {
    "application/vnd.databricks.v1+cell": {
     "cellMetadata": {
      "byteLimit": 2048000,
      "rowLimit": 10000
     },
     "inputWidgets": {},
     "nuid": "365a8efc-2372-4550-a7f5-4baacde39dc1",
     "showTitle": false,
     "title": ""
    }
   },
   "outputs": [
    {
     "output_type": "stream",
     "name": "stdout",
     "output_type": "stream",
     "text": [
      "Out[12]: [('this', <pyspark.resultiterable.ResultIterable at 0x7fb7fecadeb0>),\n ('ango', <pyspark.resultiterable.ResultIterable at 0x7fb7fec10ee0>),\n ('cat', <pyspark.resultiterable.ResultIterable at 0x7fb7fec108b0>),\n ('ant', <pyspark.resultiterable.ResultIterable at 0x7fb7fec10880>),\n ('laptop', <pyspark.resultiterable.ResultIterable at 0x7fb7fec10c70>),\n ('switch', <pyspark.resultiterable.ResultIterable at 0x7fb7fec10e20>),\n ('mobile', <pyspark.resultiterable.ResultIterable at 0x7fb7fec10910>),\n ('am', <pyspark.resultiterable.ResultIterable at 0x7fb7fec103a0>),\n ('company', <pyspark.resultiterable.ResultIterable at 0x7fb7fec10310>),\n ('animal', <pyspark.resultiterable.ResultIterable at 0x7fb7fec102e0>),\n ('dog', <pyspark.resultiterable.ResultIterable at 0x7fb7fec10850>),\n ('mic', <pyspark.resultiterable.ResultIterable at 0x7fb7fec10370>),\n ('char', <pyspark.resultiterable.ResultIterable at 0x7fb808c2efa0>),\n ('charger', <pyspark.resultiterable.ResultIterable at 0x7fb808c2eac0>),\n ('cover', <pyspark.resultiterable.ResultIterable at 0x7fb808c2ef70>),\n ('amanda', <pyspark.resultiterable.ResultIterable at 0x7fb808405eb0>),\n ('any', <pyspark.resultiterable.ResultIterable at 0x7fb808405fd0>),\n ('alarm', <pyspark.resultiterable.ResultIterable at 0x7fb808405df0>)]"
     ]
    }
   ],
   "source": [
    "rd3.groupByKey().collect()"
   ]
  },
  {
   "cell_type": "code",
   "execution_count": 0,
   "metadata": {
    "application/vnd.databricks.v1+cell": {
     "cellMetadata": {
      "byteLimit": 2048000,
      "rowLimit": 10000
     },
     "inputWidgets": {},
     "nuid": "737de316-debc-4da3-8b99-6c0da8f779ce",
     "showTitle": false,
     "title": ""
    }
   },
   "outputs": [
    {
     "output_type": "stream",
     "name": "stdout",
     "output_type": "stream",
     "text": [
      "Out[14]: [('this', [4]),\n ('ango', [4]),\n ('cat', [3]),\n ('ant', [3, 3]),\n ('laptop', [6]),\n ('switch', [6]),\n ('mobile', [6]),\n ('am', [2]),\n ('company', [7]),\n ('animal', [6]),\n ('dog', [3]),\n ('mic', [3]),\n ('char', [4]),\n ('charger', [7]),\n ('cover', [5]),\n ('amanda', [6]),\n ('any', [3]),\n ('alarm', [5])]"
     ]
    }
   ],
   "source": [
    "rd3.groupByKey().mapValues(list).collect()"
   ]
  },
  {
   "cell_type": "code",
   "execution_count": 0,
   "metadata": {
    "application/vnd.databricks.v1+cell": {
     "cellMetadata": {},
     "inputWidgets": {},
     "nuid": "50c8ac1f-d267-46ff-8100-2dd308ef6701",
     "showTitle": false,
     "title": ""
    }
   },
   "outputs": [],
   "source": []
  }
 ],
 "metadata": {
  "application/vnd.databricks.v1+notebook": {
   "dashboards": [],
   "environmentMetadata": null,
   "language": "python",
   "notebookMetadata": {
    "pythonIndentUnit": 4
   },
   "notebookName": "RDD GroupByKey",
   "widgets": {}
  }
 },
 "nbformat": 4,
 "nbformat_minor": 0
}
