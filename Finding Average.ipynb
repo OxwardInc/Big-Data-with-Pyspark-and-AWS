{
 "cells": [
  {
   "cell_type": "code",
   "execution_count": 0,
   "metadata": {
    "application/vnd.databricks.v1+cell": {
     "cellMetadata": {
      "byteLimit": 2048000,
      "rowLimit": 10000
     },
     "inputWidgets": {},
     "nuid": "77c0a137-3abd-45e8-8f55-48f51edefbd6",
     "showTitle": false,
     "title": ""
    }
   },
   "outputs": [],
   "source": [
    "from pyspark import SparkConf, SparkContext\n",
    "conf = SparkConf().setAppName('Average')\n",
    "sc = SparkContext.getOrCreate(conf=conf)"
   ]
  },
  {
   "cell_type": "code",
   "execution_count": 0,
   "metadata": {
    "application/vnd.databricks.v1+cell": {
     "cellMetadata": {
      "byteLimit": 2048000,
      "rowLimit": 10000
     },
     "inputWidgets": {},
     "nuid": "d7a26316-6108-43df-9ad0-5558789a4f46",
     "showTitle": false,
     "title": ""
    }
   },
   "outputs": [
    {
     "output_type": "stream",
     "name": "stdout",
     "output_type": "stream",
     "text": [
      "Out[2]: ['The Shawshank Redemption, 3',\n 'The Matrix, 5',\n '12 Angry Men, 3',\n '12 Angry Men, 4',\n 'The Matrix, 5',\n 'The Godfather, 5',\n 'The Shawshank Redemption, 2',\n 'Pulp Fiction, 4',\n 'The Godfather, 5',\n '12 Angry Men, 2',\n 'The Godfather, 3',\n 'Pulp Fiction, 4',\n '12 Angry Men, 1',\n 'The Shawshank Redemption, 2',\n '12 Angry Men, 1',\n 'The Shawshank Redemption, 5',\n 'Pulp Fiction, 5',\n 'Pulp Fiction, 2',\n 'The Matrix, 4']"
     ]
    }
   ],
   "source": [
    "rdd = sc.textFile('/FileStore/tables/movie_ratings.csv')\n",
    "rdd.collect()"
   ]
  },
  {
   "cell_type": "code",
   "execution_count": 0,
   "metadata": {
    "application/vnd.databricks.v1+cell": {
     "cellMetadata": {
      "byteLimit": 2048000,
      "rowLimit": 10000
     },
     "inputWidgets": {},
     "nuid": "bd30b7de-c657-4752-aaad-297820797fe0",
     "showTitle": false,
     "title": ""
    }
   },
   "outputs": [
    {
     "output_type": "stream",
     "name": "stdout",
     "output_type": "stream",
     "text": [
      "Out[7]: [('The Shawshank Redemption', 3),\n ('The Matrix', 5),\n ('12 Angry Men', 3),\n ('12 Angry Men', 4),\n ('The Matrix', 5),\n ('The Godfather', 5),\n ('The Shawshank Redemption', 2),\n ('Pulp Fiction', 4),\n ('The Godfather', 5),\n ('12 Angry Men', 2),\n ('The Godfather', 3),\n ('Pulp Fiction', 4),\n ('12 Angry Men', 1),\n ('The Shawshank Redemption', 2),\n ('12 Angry Men', 1),\n ('The Shawshank Redemption', 5),\n ('Pulp Fiction', 5),\n ('Pulp Fiction', 2),\n ('The Matrix', 4)]"
     ]
    }
   ],
   "source": [
    "rdd2 = rdd.map(lambda x: (x.split(',')[0], int(x.split(',')[1])))\n",
    "rdd2.collect()"
   ]
  },
  {
   "cell_type": "code",
   "execution_count": 0,
   "metadata": {
    "application/vnd.databricks.v1+cell": {
     "cellMetadata": {
      "byteLimit": 2048000,
      "rowLimit": 10000
     },
     "inputWidgets": {},
     "nuid": "63b12c61-b028-44f3-93e5-e6207776e4db",
     "showTitle": false,
     "title": ""
    }
   },
   "outputs": [
    {
     "output_type": "stream",
     "name": "stdout",
     "output_type": "stream",
     "text": [
      "Out[8]: [('The Shawshank Redemption', (3, 1)),\n ('The Matrix', (5, 1)),\n ('12 Angry Men', (3, 1)),\n ('12 Angry Men', (4, 1)),\n ('The Matrix', (5, 1)),\n ('The Godfather', (5, 1)),\n ('The Shawshank Redemption', (2, 1)),\n ('Pulp Fiction', (4, 1)),\n ('The Godfather', (5, 1)),\n ('12 Angry Men', (2, 1)),\n ('The Godfather', (3, 1)),\n ('Pulp Fiction', (4, 1)),\n ('12 Angry Men', (1, 1)),\n ('The Shawshank Redemption', (2, 1)),\n ('12 Angry Men', (1, 1)),\n ('The Shawshank Redemption', (5, 1)),\n ('Pulp Fiction', (5, 1)),\n ('Pulp Fiction', (2, 1)),\n ('The Matrix', (4, 1))]"
     ]
    }
   ],
   "source": [
    "rdd2 = rdd.map(lambda x: (x.split(',')[0], (int(x.split(',')[1]), 1)))\n",
    "rdd2.collect()"
   ]
  },
  {
   "cell_type": "code",
   "execution_count": 0,
   "metadata": {
    "application/vnd.databricks.v1+cell": {
     "cellMetadata": {
      "byteLimit": 2048000,
      "rowLimit": 10000
     },
     "inputWidgets": {},
     "nuid": "24b6ce95-9835-49b2-bfba-358bffef444d",
     "showTitle": false,
     "title": ""
    }
   },
   "outputs": [
    {
     "output_type": "stream",
     "name": "stdout",
     "output_type": "stream",
     "text": [
      "Out[9]: [('The Shawshank Redemption', (12, 4)),\n ('12 Angry Men', (11, 5)),\n ('The Godfather', (13, 3)),\n ('The Matrix', (14, 3)),\n ('Pulp Fiction', (15, 4))]"
     ]
    }
   ],
   "source": [
    "rdd3 = rdd2.reduceByKey(lambda x, y: (x[0]+y[0], x[1]+y[1]))\n",
    "rdd3.collect()"
   ]
  },
  {
   "cell_type": "code",
   "execution_count": 0,
   "metadata": {
    "application/vnd.databricks.v1+cell": {
     "cellMetadata": {
      "byteLimit": 2048000,
      "rowLimit": 10000
     },
     "inputWidgets": {},
     "nuid": "4cafda10-e6cb-4428-93c6-4cfb6a7f0d7e",
     "showTitle": false,
     "title": ""
    }
   },
   "outputs": [
    {
     "output_type": "stream",
     "name": "stdout",
     "output_type": "stream",
     "text": [
      "Out[11]: [('The Shawshank Redemption', 3.0),\n ('12 Angry Men', 2.2),\n ('The Godfather', 4.333333333333333),\n ('The Matrix', 4.666666666666667),\n ('Pulp Fiction', 3.75)]"
     ]
    }
   ],
   "source": [
    "rdd4 = rdd3.map(lambda x: (x[0], x[1][0]/x[1][1]))\n",
    "rdd4.collect()"
   ]
  },
  {
   "cell_type": "code",
   "execution_count": 0,
   "metadata": {
    "application/vnd.databricks.v1+cell": {
     "cellMetadata": {
      "byteLimit": 2048000,
      "rowLimit": 10000
     },
     "inputWidgets": {},
     "nuid": "dd7df499-8f86-4f36-b774-170ee235dec7",
     "showTitle": false,
     "title": ""
    }
   },
   "outputs": [],
   "source": [
    "rdd2 = rdd.map(lambda x: (x.split(',')[0], (int(x.split(',')[1]), 1)))\n",
    "rdd3 = rdd2.reduceByKey(lambda x, y: (x[0]+y[0], x[1]+y[1]))\n",
    "rdd4 = rdd3.map(lambda x: (x[0], x[1][0]/x[1][1]))"
   ]
  },
  {
   "cell_type": "code",
   "execution_count": 0,
   "metadata": {
    "application/vnd.databricks.v1+cell": {
     "cellMetadata": {
      "byteLimit": 2048000,
      "rowLimit": 10000
     },
     "inputWidgets": {},
     "nuid": "a2fad79e-b392-4303-83e2-7a05b566f3fe",
     "showTitle": false,
     "title": ""
    }
   },
   "outputs": [
    {
     "output_type": "stream",
     "name": "stdout",
     "output_type": "stream",
     "text": [
      "Out[14]: [('The Shawshank Redemption', 3.0),\n ('12 Angry Men', 2.2),\n ('The Godfather', 4.333333333333333),\n ('The Matrix', 4.666666666666667),\n ('Pulp Fiction', 3.75)]"
     ]
    }
   ],
   "source": [
    "rdd4.collect()"
   ]
  },
  {
   "cell_type": "markdown",
   "metadata": {
    "application/vnd.databricks.v1+cell": {
     "cellMetadata": {},
     "inputWidgets": {},
     "nuid": "e6280ed5-0ead-48f1-a92c-5aa2cc1708c0",
     "showTitle": false,
     "title": ""
    }
   },
   "source": [
    "### Quiz"
   ]
  },
  {
   "cell_type": "code",
   "execution_count": 0,
   "metadata": {
    "application/vnd.databricks.v1+cell": {
     "cellMetadata": {
      "byteLimit": 2048000,
      "rowLimit": 10000
     },
     "inputWidgets": {},
     "nuid": "9b4b3790-3d19-408b-b21b-871fcc639ec4",
     "showTitle": false,
     "title": ""
    }
   },
   "outputs": [
    {
     "output_type": "stream",
     "name": "stdout",
     "output_type": "stream",
     "text": [
      "Out[15]: ['JAN,NY,3.0',\n 'JAN,PA,1.0',\n 'JAN,NJ,2.0',\n 'JAN,CT,4.0',\n 'FEB,PA,1.0',\n 'FEB,NJ,1.0',\n 'FEB,NY,2.0',\n 'FEB,VT,1.0',\n 'MAR,NJ,2.0',\n 'MAR,NY,1.0',\n 'MAR,VT,2.0',\n 'MAR,PA,3.0']"
     ]
    }
   ],
   "source": [
    "rdd = sc.textFile('/FileStore/tables/average_quiz_sample.csv')\n",
    "rdd.collect()"
   ]
  },
  {
   "cell_type": "code",
   "execution_count": 0,
   "metadata": {
    "application/vnd.databricks.v1+cell": {
     "cellMetadata": {
      "byteLimit": 2048000,
      "rowLimit": 10000
     },
     "inputWidgets": {},
     "nuid": "53df3946-cc4b-40de-854f-c150e455cbbb",
     "showTitle": false,
     "title": ""
    }
   },
   "outputs": [
    {
     "output_type": "stream",
     "name": "stdout",
     "output_type": "stream",
     "text": [
      "Out[17]: [['JAN', 'NY', '3.0'],\n ['JAN', 'PA', '1.0'],\n ['JAN', 'NJ', '2.0'],\n ['JAN', 'CT', '4.0'],\n ['FEB', 'PA', '1.0'],\n ['FEB', 'NJ', '1.0'],\n ['FEB', 'NY', '2.0'],\n ['FEB', 'VT', '1.0'],\n ['MAR', 'NJ', '2.0'],\n ['MAR', 'NY', '1.0'],\n ['MAR', 'VT', '2.0'],\n ['MAR', 'PA', '3.0']]"
     ]
    }
   ],
   "source": [
    "rdd1 = rdd.map(lambda x: x.split(','))\n",
    "rdd1.collect()"
   ]
  },
  {
   "cell_type": "code",
   "execution_count": 0,
   "metadata": {
    "application/vnd.databricks.v1+cell": {
     "cellMetadata": {
      "byteLimit": 2048000,
      "rowLimit": 10000
     },
     "inputWidgets": {},
     "nuid": "b5e7d1b9-2255-40a3-b3fd-633c0990650c",
     "showTitle": false,
     "title": ""
    }
   },
   "outputs": [
    {
     "output_type": "stream",
     "name": "stdout",
     "output_type": "stream",
     "text": [
      "Out[20]: [('JAN', 'NY', (3.0, 1)),\n ('JAN', 'PA', (1.0, 1)),\n ('JAN', 'NJ', (2.0, 1)),\n ('JAN', 'CT', (4.0, 1)),\n ('FEB', 'PA', (1.0, 1)),\n ('FEB', 'NJ', (1.0, 1)),\n ('FEB', 'NY', (2.0, 1)),\n ('FEB', 'VT', (1.0, 1)),\n ('MAR', 'NJ', (2.0, 1)),\n ('MAR', 'NY', (1.0, 1)),\n ('MAR', 'VT', (2.0, 1)),\n ('MAR', 'PA', (3.0, 1))]"
     ]
    }
   ],
   "source": [
    "rdd2 = rdd.map(lambda x: (x.split(',')[0], x.split(',')[1], (float(x.split(',')[2]), 1)))\n",
    "rdd2.collect()"
   ]
  },
  {
   "cell_type": "code",
   "execution_count": 0,
   "metadata": {
    "application/vnd.databricks.v1+cell": {
     "cellMetadata": {
      "byteLimit": 2048000,
      "rowLimit": 10000
     },
     "inputWidgets": {},
     "nuid": "7f3a10de-1488-4fb4-b84d-89399bb983d0",
     "showTitle": false,
     "title": ""
    }
   },
   "outputs": [
    {
     "output_type": "stream",
     "name": "stdout",
     "output_type": "stream",
     "text": [
      "Out[27]: [('JAN', (3.0, 1)),\n ('JAN', (1.0, 1)),\n ('JAN', (2.0, 1)),\n ('JAN', (4.0, 1)),\n ('FEB', (1.0, 1)),\n ('FEB', (1.0, 1)),\n ('FEB', (2.0, 1)),\n ('FEB', (1.0, 1)),\n ('MAR', (2.0, 1)),\n ('MAR', (1.0, 1)),\n ('MAR', (2.0, 1)),\n ('MAR', (3.0, 1))]"
     ]
    }
   ],
   "source": [
    "rdd2 = rdd.map(lambda x: (x.split(',')[0], (float(x.split(',')[2]), 1)))\n",
    "rdd2.collect()"
   ]
  },
  {
   "cell_type": "code",
   "execution_count": 0,
   "metadata": {
    "application/vnd.databricks.v1+cell": {
     "cellMetadata": {
      "byteLimit": 2048000,
      "rowLimit": 10000
     },
     "inputWidgets": {},
     "nuid": "72878f81-a30c-454b-bc56-b415a77f0dc2",
     "showTitle": false,
     "title": ""
    }
   },
   "outputs": [
    {
     "output_type": "stream",
     "name": "stdout",
     "output_type": "stream",
     "text": [
      "Out[28]: [('JAN', (10.0, 4)), ('FEB', (5.0, 4)), ('MAR', (8.0, 4))]"
     ]
    }
   ],
   "source": [
    "#rdd3 = rdd2.reduceByKey(lambda x, y: (x[0]+y[0], x[1]+y[1]))\n",
    "rdd3 = rdd2.reduceByKey(lambda x, y: (x[0]+y[0], x[1]+y[1]))\n",
    "rdd3.collect()"
   ]
  },
  {
   "cell_type": "code",
   "execution_count": 0,
   "metadata": {
    "application/vnd.databricks.v1+cell": {
     "cellMetadata": {
      "byteLimit": 2048000,
      "rowLimit": 10000
     },
     "inputWidgets": {},
     "nuid": "03fafd28-7458-4246-9de2-a9bf51048742",
     "showTitle": false,
     "title": ""
    }
   },
   "outputs": [
    {
     "output_type": "stream",
     "name": "stdout",
     "output_type": "stream",
     "text": [
      "Out[30]: [('JAN', 2.5), ('FEB', 1.25), ('MAR', 2.0)]"
     ]
    }
   ],
   "source": [
    "rdd4 = rdd3.map(lambda x: (x[0], x[1][0]/x[1][1]))\n",
    "rdd4.collect()"
   ]
  },
  {
   "cell_type": "code",
   "execution_count": 0,
   "metadata": {
    "application/vnd.databricks.v1+cell": {
     "cellMetadata": {},
     "inputWidgets": {},
     "nuid": "a3a1b64f-343f-4cf1-9ae2-d501e7279d69",
     "showTitle": false,
     "title": ""
    }
   },
   "outputs": [],
   "source": []
  }
 ],
 "metadata": {
  "application/vnd.databricks.v1+notebook": {
   "dashboards": [],
   "environmentMetadata": null,
   "language": "python",
   "notebookMetadata": {
    "pythonIndentUnit": 4
   },
   "notebookName": "Finding Average",
   "widgets": {}
  }
 },
 "nbformat": 4,
 "nbformat_minor": 0
}
